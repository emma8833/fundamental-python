{
 "cells": [
  {
   "cell_type": "markdown",
   "metadata": {
    "collapsed": true
   },
   "source": [
    "# Programming for Data Science (Python)"
   ]
  },
  {
   "cell_type": "code",
   "execution_count": null,
   "metadata": {},
   "outputs": [],
   "source": [
    "from IPython.core.interactiveshell import InteractiveShell\n",
    "InteractiveShell.ast_node_interactivity = \"all\""
   ]
  },
  {
   "cell_type": "markdown",
   "metadata": {},
   "source": [
    "<p style=\"font-family: Arial; font-size:3.75em;color:purple; font-style:bold\"><br>\n",
    "Introduction to numpy:\n",
    "</p><br>\n",
    "\n",
    "<p style=\"font-family: Arial; font-size:1.25em;color:#2462C0; font-style:bold\"><br>\n",
    "Package for scientific computing with Python\n",
    "</p><br>\n",
    "\n",
    "Numerical Python, or \"Numpy\" for short, is a foundational package on which many of the most common data science packages are built.  Numpy provides us with high performance multi-dimensional arrays which we can use as vectors or matrices.  \n",
    "\n",
    "The key features of numpy are:\n",
    "\n",
    "- ndarrays: n-dimensional arrays of the same data type which are fast and space-efficient.  There are a number of built-in methods for ndarrays which allow for rapid processing of data without using loops (e.g., compute the mean).\n",
    "- Vectorization: enables numeric operations on ndarrays.\n",
    "- Broadcasting: a useful tool which defines implicit behavior between multi-dimensional arrays of different sizes.\n",
    "- Input/Output: simplifies reading and writing of data from/to file.\n",
    "\n",
    "<b>Additional Recommended Resources:</b><br>\n",
    "<a href=\"https://docs.scipy.org/doc/numpy/reference/\">Numpy Documentation</a><br>\n",
    "<i>Python for Data Analysis</i> by Wes McKinney<br>\n",
    "<i>Python Data science Handbook</i> by Jake VanderPlas\n"
   ]
  },
  {
   "cell_type": "markdown",
   "metadata": {},
   "source": [
    "<p style=\"font-family: Arial; font-size:2.75em;color:purple; font-style:bold\"><br>\n",
    "\n",
    "Getting started with ndarray<br><br></p>\n",
    "\n",
    "**ndarrays** are time and space-efficient multidimensional arrays at the core of numpy.  Like the data structures in Week 2, let's get started by creating ndarrays using the numpy package."
   ]
  },
  {
   "cell_type": "markdown",
   "metadata": {},
   "source": [
    "<p style=\"font-family: Arial; font-size:1.75em;color:#2462C0; font-style:bold\"><br>\n",
    "\n",
    "How to create Rank 1 numpy arrays:\n",
    "</p>"
   ]
  },
  {
   "cell_type": "code",
   "execution_count": 3,
   "metadata": {},
   "outputs": [
    {
     "data": {
      "text/plain": [
       "numpy.ndarray"
      ]
     },
     "execution_count": 3,
     "metadata": {},
     "output_type": "execute_result"
    }
   ],
   "source": [
    "#Rank 1 means 1 dimension\n",
    "import numpy as np\n",
    "an_array = np.array([3,33,333])\n",
    "an_array\n",
    "\n",
    "type(an_array )\n"
   ]
  },
  {
   "cell_type": "code",
   "execution_count": 5,
   "metadata": {
    "scrolled": true
   },
   "outputs": [
    {
     "data": {
      "text/plain": [
       "array([ 88,  33, 333])"
      ]
     },
     "execution_count": 5,
     "metadata": {},
     "output_type": "execute_result"
    }
   ],
   "source": [
    "# test the shape of the array we just created, it should have just one dimension (Rank 1)\n",
    "\n",
    "\n",
    "#check the dimension of the array\n",
    "an_array.shape\n",
    "\n",
    "# because this is a 1-rank array, we need only one index to accesss each element\n",
    "#access components just like we do in list\n",
    "\n",
    "an_array[0]\n",
    "\n",
    "# ndarrays are mutable, here we change an element of the array\n",
    "an_array[0] = 88\n",
    "\n",
    "an_array"
   ]
  },
  {
   "cell_type": "markdown",
   "metadata": {},
   "source": [
    "<p style=\"font-family: Arial; font-size:1.75em;color:#2462C0; font-style:bold\"><br>\n",
    "\n",
    "How to create a Rank 2 numpy array:</p>\n",
    "\n",
    "A rank 2 **ndarray** is one with two dimensions.  Notice the format below of [ [row] , [row] ].  2 dimensional arrays are great for representing matrices which are often useful in data science."
   ]
  },
  {
   "cell_type": "code",
   "execution_count": 17,
   "metadata": {},
   "outputs": [
    {
     "name": "stdout",
     "output_type": "stream",
     "text": [
      "(2, 3)\n"
     ]
    },
    {
     "data": {
      "text/plain": [
       "(1, 3)"
      ]
     },
     "execution_count": 17,
     "metadata": {},
     "output_type": "execute_result"
    }
   ],
   "source": [
    "# Create a rank 2 array\n",
    "another = np.array([[11,12,13],[21,22,23]])\n",
    "\n",
    "another\n",
    "\n",
    "print(another.shape)\n",
    "\n",
    "#change the list into 2 dimensional\n",
    "another2 = np.array([[3,33,333]])\n",
    "\n",
    "another2\n",
    "\n",
    "another2.shape"
   ]
  },
  {
   "cell_type": "markdown",
   "metadata": {},
   "source": [
    "<p style=\"font-family: Arial; font-size:1.75em;color:#2462C0; font-style:bold\"><br>\n",
    "\n",
    "There are many way to create numpy arrays:\n",
    "</p>\n",
    "\n",
    "Here we create a number of different size arrays with different shapes and different pre-filled values.  numpy has a number of built in methods which help us quickly and easily create multidimensional arrays."
   ]
  },
  {
   "cell_type": "code",
   "execution_count": 5,
   "metadata": {},
   "outputs": [
    {
     "name": "stdout",
     "output_type": "stream",
     "text": [
      "[[0. 0.]\n",
      " [0. 0.]]\n",
      "[[9. 9.]\n",
      " [9. 9.]]\n",
      "[[1. 1.]]\n"
     ]
    }
   ],
   "source": [
    "# create a 2x2 array of zeros\n",
    "\n",
    "ex1 = np.zeros((2,2))\n",
    "print(ex1)\n",
    "# create a 2x2 array filled with 9.0\n",
    "ex2 = np.full((2,2), 9.0)\n",
    "print(ex2)\n",
    "\n",
    "# create an array of ones\n",
    "ex3 = np.ones((1,2))\n",
    "print(ex3)"
   ]
  },
  {
   "cell_type": "code",
   "execution_count": 8,
   "metadata": {},
   "outputs": [
    {
     "name": "stdout",
     "output_type": "stream",
     "text": [
      "(1, 2)\n"
     ]
    },
    {
     "data": {
      "text/plain": [
       "1.0"
      ]
     },
     "execution_count": 8,
     "metadata": {},
     "output_type": "execute_result"
    }
   ],
   "source": [
    "# notice that the above ndarray (ex3) is actually rank 2, it is a 2x1 array\n",
    "print(ex3.shape)\n",
    "\n",
    "# which means we need to use two indexes to access an element\n",
    "ex3[0,0]"
   ]
  },
  {
   "cell_type": "code",
   "execution_count": 10,
   "metadata": {
    "scrolled": true
   },
   "outputs": [
    {
     "name": "stdout",
     "output_type": "stream",
     "text": [
      "[[0.1490699  0.4258907 ]\n",
      " [0.64376609 0.54443006]]\n"
     ]
    }
   ],
   "source": [
    "# create an array of random floats between 0 and 1\n",
    "ex4 = np.random.random((2,2))\n",
    "print(ex4)#this will generate a matrix with mean and std dev of 1"
   ]
  },
  {
   "cell_type": "markdown",
   "metadata": {},
   "source": [
    "<p style=\"font-family: Arial; font-size:2.75em;color:purple; font-style:bold\"><br>\n",
    "\n",
    "Datatypes\n",
    "<br><br></p>"
   ]
  },
  {
   "cell_type": "markdown",
   "metadata": {},
   "source": [
    "<p style=\"font-family: Arial; font-size:1.75em;color:#2462C0; font-style:bold\"><br>\n",
    "\n",
    "Datatypes:\n",
    "</p>"
   ]
  },
  {
   "cell_type": "code",
   "execution_count": 11,
   "metadata": {},
   "outputs": [
    {
     "data": {
      "text/plain": [
       "dtype('float64')"
      ]
     },
     "execution_count": 11,
     "metadata": {},
     "output_type": "execute_result"
    }
   ],
   "source": [
    "# Python assigns the  data type\n",
    "ex1.dtype"
   ]
  },
  {
   "cell_type": "code",
   "execution_count": 13,
   "metadata": {},
   "outputs": [
    {
     "data": {
      "text/plain": [
       "dtype('int32')"
      ]
     },
     "execution_count": 13,
     "metadata": {},
     "output_type": "execute_result"
    }
   ],
   "source": [
    "# Python assigns the  data type\n",
    "ex5 = np.array([1,2,3])\n",
    "ex5.dtype"
   ]
  },
  {
   "cell_type": "code",
   "execution_count": 15,
   "metadata": {},
   "outputs": [
    {
     "name": "stdout",
     "output_type": "stream",
     "text": [
      "[1 2 3]\n",
      "int64\n"
     ]
    }
   ],
   "source": [
    "#You can also tell Python the  data type\n",
    "ex5 = np.array([1,2,3], dtype = np.int64)\n",
    "print(ex5)\n",
    "print(ex5.dtype)"
   ]
  },
  {
   "cell_type": "code",
   "execution_count": 16,
   "metadata": {},
   "outputs": [
    {
     "name": "stdout",
     "output_type": "stream",
     "text": [
      "[1 2 3]\n"
     ]
    }
   ],
   "source": [
    "# you can use this to force floats into integers (using floor function)\n",
    "ex6 = np.array([1.5,2.2,3.8], dtype = np.int64)\n",
    "print(ex6)"
   ]
  },
  {
   "cell_type": "code",
   "execution_count": null,
   "metadata": {},
   "outputs": [],
   "source": [
    "# you can use this to force integers into floats if you anticipate\n",
    "# the values may change to floats later\n"
   ]
  },
  {
   "cell_type": "markdown",
   "metadata": {},
   "source": [
    "<p style=\"font-family: Arial; font-size:2.75em;color:purple; font-style:bold\"><br>\n",
    "\n",
    "Array Indexing\n",
    "<br><br></p>"
   ]
  },
  {
   "cell_type": "markdown",
   "metadata": {},
   "source": [
    "<p style=\"font-family: Arial; font-size:1.75em;color:#2462C0; font-style:bold\"><br>\n",
    "Slice indexing:\n",
    "</p>\n",
    "\n",
    "Similar to the use of slice indexing with lists and strings, we can use slice indexing to pull out sub-regions of ndarrays."
   ]
  },
  {
   "cell_type": "code",
   "execution_count": 29,
   "metadata": {},
   "outputs": [
    {
     "name": "stdout",
     "output_type": "stream",
     "text": [
      "[[11 12 13 14]\n",
      " [21 22 23 24]\n",
      " [31 32 33 34]]\n",
      "[[12 13]\n",
      " [22 23]]\n",
      "before:  12\n",
      "after:  1000\n",
      "[[1000   13]\n",
      " [  22   23]]\n"
     ]
    }
   ],
   "source": [
    "# Rank 2 array of shape (3, 4)\n",
    "\n",
    "an_array1 = np.array([[11,12,13,14],[21,22,23,24],[31,32,33,34]])\n",
    "print(an_array1)\n",
    "\n",
    "#Use array slicing to get a subarray consisting of 2 rows x 2 columns.\n",
    "a_slice = an_array1[:2,1:3]\n",
    "print(a_slice)\n",
    "#When you modify a slice, you actually modify the underlying array.\n",
    "\n",
    "print(\"before: \", an_array1[0,1])\n",
    "a_slice[0,0] = 1000\n",
    "\n",
    "print(\"after: \", an_array1[0,1])\n",
    "#To avoid that, you need to explicitly use the np.array()function.\n",
    "another_slice = np.array(an_array1[:2,1:3])\n",
    "print(another_slice)"
   ]
  },
  {
   "cell_type": "code",
   "execution_count": null,
   "metadata": {},
   "outputs": [],
   "source": []
  },
  {
   "cell_type": "code",
   "execution_count": 31,
   "metadata": {},
   "outputs": [
    {
     "name": "stdout",
     "output_type": "stream",
     "text": [
      "(4,)\n",
      "(2, 4)\n"
     ]
    }
   ],
   "source": [
    "# You may generate an array of lower rank\n",
    "  \n",
    "row_rank1 = an_array1[1,:] #this will give the second row\n",
    "print(row_rank1.shape)\n",
    "# Or an array of the same rank as the an_array\n",
    "row_rank2 = an_array1[:2,:]\n",
    "print(row_rank2.shape)\n",
    "\n",
    "\n",
    "#We can do the same thing for columns of an array:\n",
    "\n"
   ]
  },
  {
   "cell_type": "markdown",
   "metadata": {},
   "source": [
    "<p style=\"font-family: Arial; font-size:1.75em;color:#2462C0; font-style:bold\"><br>\n",
    "\n",
    "Fancy indexing: array of indices\n",
    "</p>"
   ]
  },
  {
   "cell_type": "markdown",
   "metadata": {},
   "source": [
    "Sometimes it's useful to use an array of indexes to access or change elements."
   ]
  },
  {
   "cell_type": "code",
   "execution_count": 32,
   "metadata": {},
   "outputs": [
    {
     "name": "stdout",
     "output_type": "stream",
     "text": [
      "[[11 12 13]\n",
      " [21 22 23]\n",
      " [31 32 33]\n",
      " [41 42 43]]\n",
      "(4, 3)\n"
     ]
    }
   ],
   "source": [
    "# Create a new array\n",
    "\n",
    "array2=np.array([[11,12,13],[21,22,23],[31,32,33],[41,42,43]])\n",
    "print(array2)\n",
    "print(array2.shape)"
   ]
  },
  {
   "cell_type": "code",
   "execution_count": 33,
   "metadata": {},
   "outputs": [
    {
     "name": "stdout",
     "output_type": "stream",
     "text": [
      "[0 1 2 0]\n",
      "[0 1 2 3]\n"
     ]
    }
   ],
   "source": [
    "# Create an array of indices\n",
    "col_indices = np.array([0,1,2,0])\n",
    "print(col_indices)\n",
    "row_indices=np.arange(4)\n",
    "print(row_indices)"
   ]
  },
  {
   "cell_type": "code",
   "execution_count": 34,
   "metadata": {},
   "outputs": [
    {
     "name": "stdout",
     "output_type": "stream",
     "text": [
      "0 , 0\n",
      "1 , 1\n",
      "2 , 2\n",
      "3 , 0\n"
     ]
    }
   ],
   "source": [
    "# Examine the pairings of row_indices and col_indices.  These are the elements we'll change next.\n",
    "for row,col in zip(row_indices,col_indices):\n",
    "    print(row,',', col)"
   ]
  },
  {
   "cell_type": "code",
   "execution_count": 35,
   "metadata": {},
   "outputs": [
    {
     "name": "stdout",
     "output_type": "stream",
     "text": [
      "[11 22 33 41]\n"
     ]
    }
   ],
   "source": [
    "# Select one element from each row\n",
    "print(array2[row_indices,col_indices])\n",
    "#this goes according to the col_indices \n",
    "\n"
   ]
  },
  {
   "cell_type": "code",
   "execution_count": 36,
   "metadata": {},
   "outputs": [
    {
     "name": "stdout",
     "output_type": "stream",
     "text": [
      "[[1011   12   13]\n",
      " [  21 1022   23]\n",
      " [  31   32 1033]\n",
      " [1041   42   43]]\n"
     ]
    }
   ],
   "source": [
    "# Change one element from each row using the indices selected\n",
    "array2[row_indices,col_indices]+=1000\n",
    "print(array2)"
   ]
  },
  {
   "cell_type": "markdown",
   "metadata": {},
   "source": [
    "<p style=\"font-family: Arial; font-size:2.75em;color:purple; font-style:bold\"><br>\n",
    "Boolean Indexing\n",
    "\n",
    "<br><br></p>\n",
    "<p style=\"font-family: Arial; font-size:1.75em;color:#2462C0; font-style:bold\"><br>\n",
    "</p>"
   ]
  },
  {
   "cell_type": "code",
   "execution_count": null,
   "metadata": {},
   "outputs": [],
   "source": [
    "# create a 3x2 array\n"
   ]
  },
  {
   "cell_type": "code",
   "execution_count": 42,
   "metadata": {},
   "outputs": [
    {
     "data": {
      "text/plain": [
       "array([[ True,  True, False],\n",
       "       [ True,  True,  True],\n",
       "       [ True,  True,  True],\n",
       "       [ True,  True,  True]])"
      ]
     },
     "execution_count": 42,
     "metadata": {},
     "output_type": "execute_result"
    }
   ],
   "source": [
    "# create a filter which will be boolean values for whether each element meets this condition\n",
    "filter = (array2 > 15)\n",
    "filter"
   ]
  },
  {
   "cell_type": "markdown",
   "metadata": {},
   "source": [
    "Notice that the filter is a same size ndarray as an_array which is filled with True for each element whose corresponding element in an_array which is greater than 15 and False for those elements whose value is less than 15."
   ]
  },
  {
   "cell_type": "code",
   "execution_count": 43,
   "metadata": {},
   "outputs": [
    {
     "name": "stdout",
     "output_type": "stream",
     "text": [
      "[1011  112   21 1122   23   31  132 1033 1041  142   43]\n"
     ]
    }
   ],
   "source": [
    "# we can now select just those elements which meet that criteria\n",
    "print(array2[filter])"
   ]
  },
  {
   "cell_type": "code",
   "execution_count": null,
   "metadata": {},
   "outputs": [],
   "source": [
    "# For short, we could have just used the approach below without the need for the separate filter array.\n",
    "array2[array2%2 == 0]"
   ]
  },
  {
   "cell_type": "markdown",
   "metadata": {},
   "source": [
    "What is particularly useful is that we can actually change elements in the array applying a similar logical filter.  Let's add 100 to all the even values."
   ]
  },
  {
   "cell_type": "code",
   "execution_count": 40,
   "metadata": {},
   "outputs": [
    {
     "name": "stdout",
     "output_type": "stream",
     "text": [
      "[[1011  112   13]\n",
      " [  21 1122   23]\n",
      " [  31  132 1033]\n",
      " [1041  142   43]]\n"
     ]
    }
   ],
   "source": [
    "array2[array2%2 == 0]+=100\n",
    "print(array2)"
   ]
  },
  {
   "cell_type": "markdown",
   "metadata": {},
   "source": [
    "<p style=\"font-family: Arial; font-size:1.75em;color:#2462C0; font-style:bold\"><br>\n",
    "\n",
    "Arithmetic Array Operations:\n",
    "\n",
    "</p>"
   ]
  },
  {
   "cell_type": "code",
   "execution_count": 46,
   "metadata": {},
   "outputs": [],
   "source": [
    "x = np.array([[1,2],[12,22]], dtype=np.int)\n",
    "y = np.array([[21.1,22.1],[1.1,2.1]], dtype=np.float64)\n"
   ]
  },
  {
   "cell_type": "code",
   "execution_count": 47,
   "metadata": {},
   "outputs": [
    {
     "name": "stdout",
     "output_type": "stream",
     "text": [
      "[[22.1 24.1]\n",
      " [13.1 24.1]]\n",
      "[[22.1 24.1]\n",
      " [13.1 24.1]]\n"
     ]
    }
   ],
   "source": [
    "#plus\n",
    "print(x+y)\n",
    "print(np.add(x,y))#corresponding items get added"
   ]
  },
  {
   "cell_type": "code",
   "execution_count": 48,
   "metadata": {},
   "outputs": [
    {
     "name": "stdout",
     "output_type": "stream",
     "text": [
      "[[-20.1 -20.1]\n",
      " [ 10.9  19.9]]\n",
      "[[-20.1 -20.1]\n",
      " [ 10.9  19.9]]\n"
     ]
    }
   ],
   "source": [
    "# subtract\n",
    "print(x-y)\n",
    "print(np.subtract(x,y))"
   ]
  },
  {
   "cell_type": "code",
   "execution_count": 49,
   "metadata": {},
   "outputs": [
    {
     "name": "stdout",
     "output_type": "stream",
     "text": [
      "[[21.1 44.2]\n",
      " [13.2 46.2]]\n",
      "[[21.1 44.2]\n",
      " [13.2 46.2]]\n"
     ]
    }
   ],
   "source": [
    "# multiply\n",
    "\n",
    "print(x*y)\n",
    "print(np.multiply(x,y))"
   ]
  },
  {
   "cell_type": "code",
   "execution_count": 50,
   "metadata": {},
   "outputs": [
    {
     "name": "stdout",
     "output_type": "stream",
     "text": [
      "[[ 0.04739336  0.09049774]\n",
      " [10.90909091 10.47619048]]\n",
      "[[ 0.04739336  0.09049774]\n",
      " [10.90909091 10.47619048]]\n"
     ]
    }
   ],
   "source": [
    "# divide\n",
    "print(x/y)\n",
    "print(np.divide(x,y))"
   ]
  },
  {
   "cell_type": "code",
   "execution_count": 51,
   "metadata": {},
   "outputs": [
    {
     "name": "stdout",
     "output_type": "stream",
     "text": [
      "[[1.         1.41421356]\n",
      " [3.46410162 4.69041576]]\n"
     ]
    }
   ],
   "source": [
    "# square root\n",
    "\n",
    "print(np.sqrt(x,y))"
   ]
  },
  {
   "cell_type": "code",
   "execution_count": 52,
   "metadata": {},
   "outputs": [
    {
     "name": "stdout",
     "output_type": "stream",
     "text": [
      "[[2.71828183e+00 7.38905610e+00]\n",
      " [1.62754791e+05 3.58491285e+09]]\n"
     ]
    }
   ],
   "source": [
    "# exponent (e ** x)\n",
    "\n",
    "print(np.exp(x,y))"
   ]
  },
  {
   "cell_type": "markdown",
   "metadata": {},
   "source": [
    "<p style=\"font-family: Arial; font-size:1.75em;color:#2462C0; font-style:bold\"><br>\n",
    "\n",
    "Let's explore the efficiency of universal functions\n",
    "\n",
    "</p>"
   ]
  },
  {
   "cell_type": "code",
   "execution_count": 55,
   "metadata": {},
   "outputs": [
    {
     "data": {
      "text/plain": [
       "array([1.66666667e-001, 1.12000000e+002, 1.21000000e+002, 1.22000000e+002,\n",
       "       3.33823170e+151])"
      ]
     },
     "execution_count": 55,
     "metadata": {},
     "output_type": "execute_result"
    }
   ],
   "source": [
    "# Using loop to compute the reciprocal of each element of an array\n",
    "np.random.seed(0)\n",
    "#this is without universal functions\n",
    "\n",
    "def compute_reciprocals(values):\n",
    "    output = np.empty(len(values))\n",
    "    for i in range(len(values)):\n",
    "        output[i] = 1.0/values[i]\n",
    "        return output\n",
    "rarray = np.random.randint(1,10, size = 5)\n",
    "compute_reciprocals(rarray)\n"
   ]
  },
  {
   "cell_type": "code",
   "execution_count": 56,
   "metadata": {
    "scrolled": true
   },
   "outputs": [
    {
     "name": "stdout",
     "output_type": "stream",
     "text": [
      "Wall time: 0 ns\n"
     ]
    },
    {
     "data": {
      "text/plain": [
       "array([0.1, 0. , 0. , ..., 0. , 0. , 0. ])"
      ]
     },
     "execution_count": 56,
     "metadata": {},
     "output_type": "execute_result"
    }
   ],
   "source": [
    "#with universal function\n",
    "\n",
    "big_array = np.random.randint(1,100,size = 1000000)\n",
    "%time compute_reciprocals(big_array)"
   ]
  },
  {
   "cell_type": "code",
   "execution_count": 57,
   "metadata": {},
   "outputs": [
    {
     "name": "stdout",
     "output_type": "stream",
     "text": [
      "Wall time: 9.02 ms\n"
     ]
    },
    {
     "data": {
      "text/plain": [
       "array([0.1       , 0.01190476, 0.04545455, ..., 0.01428571, 0.01098901,\n",
       "       0.01149425])"
      ]
     },
     "execution_count": 57,
     "metadata": {},
     "output_type": "execute_result"
    }
   ],
   "source": [
    "%time (1/big_array)"
   ]
  },
  {
   "cell_type": "markdown",
   "metadata": {},
   "source": [
    "<p style=\"font-family: Arial; font-size:2.75em;color:purple; font-style:bold\"><br>\n",
    "\n",
    "Aggregation functions <br><br>\n",
    "</p>"
   ]
  },
  {
   "cell_type": "code",
   "execution_count": 66,
   "metadata": {},
   "outputs": [
    {
     "data": {
      "text/plain": [
       "array([[ 0.91052841,  1.36337822,  0.03155953, -0.46966792],\n",
       "       [ 1.0923219 , -0.55155027,  0.78930459, -0.73209118]])"
      ]
     },
     "execution_count": 66,
     "metadata": {},
     "output_type": "execute_result"
    }
   ],
   "source": [
    "# setup a random 2 x 4 matrix\n",
    "\n",
    "array3 = np.random.randn(2,4)\n",
    "array3"
   ]
  },
  {
   "cell_type": "code",
   "execution_count": 64,
   "metadata": {},
   "outputs": [
    {
     "name": "stdout",
     "output_type": "stream",
     "text": [
      "Enter the list of numbers you want to know are even or odd: 1,2,3,4,5,6,7,8,9\n",
      "['1', '2', '3', '4', '5', '6', '7', '8', '9']\n"
     ]
    },
    {
     "ename": "TypeError",
     "evalue": "not all arguments converted during string formatting",
     "output_type": "error",
     "traceback": [
      "\u001b[1;31m---------------------------------------------------------------------------\u001b[0m",
      "\u001b[1;31mTypeError\u001b[0m                                 Traceback (most recent call last)",
      "\u001b[1;32m<ipython-input-64-fecb953d593c>\u001b[0m in \u001b[0;36m<module>\u001b[1;34m()\u001b[0m\n\u001b[0;32m     16\u001b[0m \u001b[1;33m\u001b[0m\u001b[0m\n\u001b[0;32m     17\u001b[0m \u001b[1;33m\u001b[0m\u001b[0m\n\u001b[1;32m---> 18\u001b[1;33m \u001b[0mevenodd\u001b[0m\u001b[1;33m(\u001b[0m\u001b[1;33m)\u001b[0m\u001b[1;33m\u001b[0m\u001b[0m\n\u001b[0m\u001b[0;32m     19\u001b[0m \u001b[1;33m\u001b[0m\u001b[0m\n\u001b[0;32m     20\u001b[0m \u001b[1;33m\u001b[0m\u001b[0m\n",
      "\u001b[1;32m<ipython-input-64-fecb953d593c>\u001b[0m in \u001b[0;36mevenodd\u001b[1;34m()\u001b[0m\n\u001b[0;32m      8\u001b[0m     \u001b[0modd\u001b[0m \u001b[1;33m=\u001b[0m \u001b[1;36m0\u001b[0m\u001b[1;33m\u001b[0m\u001b[0m\n\u001b[0;32m      9\u001b[0m     \u001b[1;32mfor\u001b[0m \u001b[0mi\u001b[0m \u001b[1;32min\u001b[0m \u001b[0mrange\u001b[0m\u001b[1;33m(\u001b[0m\u001b[0mlen\u001b[0m\u001b[1;33m(\u001b[0m\u001b[0mnumbers\u001b[0m\u001b[1;33m)\u001b[0m\u001b[1;33m)\u001b[0m\u001b[1;33m:\u001b[0m\u001b[1;33m\u001b[0m\u001b[0m\n\u001b[1;32m---> 10\u001b[1;33m         \u001b[1;32mif\u001b[0m \u001b[0mnumbers\u001b[0m\u001b[1;33m[\u001b[0m\u001b[0mi\u001b[0m\u001b[1;33m]\u001b[0m\u001b[1;33m%\u001b[0m\u001b[1;36m2\u001b[0m \u001b[1;33m==\u001b[0m \u001b[1;36m0\u001b[0m\u001b[1;33m:\u001b[0m\u001b[1;33m\u001b[0m\u001b[0m\n\u001b[0m\u001b[0;32m     11\u001b[0m             \u001b[0meven\u001b[0m\u001b[1;33m+=\u001b[0m\u001b[1;36m1\u001b[0m\u001b[1;33m\u001b[0m\u001b[0m\n\u001b[0;32m     12\u001b[0m \u001b[1;33m\u001b[0m\u001b[0m\n",
      "\u001b[1;31mTypeError\u001b[0m: not all arguments converted during string formatting"
     ]
    }
   ],
   "source": [
    "#find a list of numbers and count the number of odd or even numbers\n",
    "numbers = [2,3,4,5,6,7,8]\n",
    "def evenodd():\n",
    "    numbers = input(\"Enter the list of numbers you want to know are even or odd: \")\n",
    "    numbers =numbers.split(\",\")\n",
    "    print(numbers)\n",
    "    even = 0\n",
    "    odd = 0\n",
    "    for i in range(len(numbers)):\n",
    "        if numbers[i]%2 == 0:\n",
    "            even+=1\n",
    "            \n",
    "        else :\n",
    "            odd+=1\n",
    "    print(\"There are \"+ str(len(even))+ \"even number and \"+ str(len(odd))+ \" odd numbers \")\n",
    "    \n",
    "\n",
    "evenodd()\n",
    "            \n",
    "    "
   ]
  },
  {
   "cell_type": "code",
   "execution_count": 62,
   "metadata": {},
   "outputs": [
    {
     "name": "stdout",
     "output_type": "stream",
     "text": [
      "2\n",
      "6\n"
     ]
    }
   ],
   "source": [
    "numbers = [1,2,3,4,5,45,67,69]\n",
    "count_even = 0\n",
    "count_odd = 0\n",
    "for i in numbers:\n",
    "    if i%2 == 0:\n",
    "        count_even+=1\n",
    "    else:\n",
    "        count_odd+=1\n",
    "print(count_even)\n",
    "print(count_odd)\n"
   ]
  },
  {
   "cell_type": "code",
   "execution_count": 67,
   "metadata": {},
   "outputs": [
    {
     "data": {
      "text/plain": [
       "0.30422290864076057"
      ]
     },
     "execution_count": 67,
     "metadata": {},
     "output_type": "execute_result"
    }
   ],
   "source": [
    "# compute the mean for all elements\n",
    "array3.mean()"
   ]
  },
  {
   "cell_type": "code",
   "execution_count": 71,
   "metadata": {},
   "outputs": [
    {
     "data": {
      "text/plain": [
       "array([0.45894956, 0.14949626])"
      ]
     },
     "execution_count": 71,
     "metadata": {},
     "output_type": "execute_result"
    }
   ],
   "source": [
    "# compute the means by row\n",
    "#row, axis =0 #column, axis = 1\n",
    "\n",
    "array3.mean(axis = 1)#the first row actually is the first element of every column, we jump from one column to the next for row operations"
   ]
  },
  {
   "cell_type": "code",
   "execution_count": 73,
   "metadata": {},
   "outputs": [
    {
     "data": {
      "text/plain": [
       "array([ 1.00142515,  0.40591398,  0.41043206, -0.60087955])"
      ]
     },
     "execution_count": 73,
     "metadata": {},
     "output_type": "execute_result"
    }
   ],
   "source": [
    "# compute the means by column\n",
    "array3.mean(axis = 0)"
   ]
  },
  {
   "cell_type": "code",
   "execution_count": 74,
   "metadata": {},
   "outputs": [
    {
     "data": {
      "text/plain": [
       "2.4337832691260846"
      ]
     },
     "execution_count": 74,
     "metadata": {},
     "output_type": "execute_result"
    }
   ],
   "source": [
    "# sum all the elements\n",
    "array3.sum()"
   ]
  },
  {
   "cell_type": "code",
   "execution_count": 76,
   "metadata": {},
   "outputs": [
    {
     "data": {
      "text/plain": [
       "array([0.47104397, 0.11887716])"
      ]
     },
     "execution_count": 76,
     "metadata": {},
     "output_type": "execute_result"
    }
   ],
   "source": [
    "# compute the medians\n",
    "np.median(array3, axis = 1) #median by row"
   ]
  },
  {
   "cell_type": "code",
   "execution_count": 77,
   "metadata": {},
   "outputs": [
    {
     "name": "stdout",
     "output_type": "stream",
     "text": [
      "[-0.81585044 -0.09495964 -0.11991924 -1.27360037 -0.20817263 -1.00912111\n",
      " -1.60382836 -1.22308313  0.42019376  0.49824839]\n",
      "[-1.60382836 -1.27360037 -1.22308313 -1.00912111 -0.81585044 -0.20817263\n",
      " -0.11991924 -0.09495964  0.42019376  0.49824839]\n"
     ]
    }
   ],
   "source": [
    "#sorting\n",
    "# create a 10 element array of randoms\n",
    "array4 = np.random.randn(10)\n",
    "print(array4)\n",
    "array4.sort()\n",
    "print(array4)\n"
   ]
  },
  {
   "cell_type": "code",
   "execution_count": 78,
   "metadata": {},
   "outputs": [
    {
     "data": {
      "text/plain": [
       "array([ 1,  2,  3,  4, 45])"
      ]
     },
     "execution_count": 78,
     "metadata": {},
     "output_type": "execute_result"
    }
   ],
   "source": [
    "#Find unique elements\n",
    "array5 = np.array([1,2,3,45,3,4,2,1])\n",
    "np.unique(array5)"
   ]
  },
  {
   "cell_type": "markdown",
   "metadata": {},
   "source": [
    "<p style=\"font-family: Arial; font-size:2.75em;color:purple; font-style:bold\"><br>\n",
    "\n",
    "Broadcasting:\n",
    "<br><br>\n",
    "</p>"
   ]
  },
  {
   "cell_type": "markdown",
   "metadata": {},
   "source": [
    "Introduction to broadcasting. <br>\n",
    "For more details, please see: <br>\n",
    "https://docs.scipy.org/doc/numpy-1.10.1/user/basics.broadcasting.html"
   ]
  },
  {
   "cell_type": "markdown",
   "metadata": {},
   "source": [
    "The term broadcasting describes how numpy treats arrays with different shapes during arithmetic operations.\n",
    "\n",
    "Subject to certain constraints, the smaller array is “broadcast” across the larger array so that they have compatible shapes.\n",
    "Two dimensions are compatible when:\n",
    "they are equal, or\n",
    "one of them is 1\n",
    "Rules:\n",
    "Rule 1: If the two arrays differ in their number of dimensions, the shape of the one with fewer dimensions is padded with ones on its leading (left) side.\n",
    "Rule 2: If the shape of the two arrays does not match in any dimension, the array with shape equal to 1 in that dimension is stretched to match the other shape.\n",
    "Rule 3: If in any dimension the sizes disagree and neither is equal to 1, an error is raised.\n"
   ]
  },
  {
   "cell_type": "code",
   "execution_count": 79,
   "metadata": {},
   "outputs": [
    {
     "data": {
      "text/plain": [
       "array([[0., 0., 0.],\n",
       "       [0., 0., 0.],\n",
       "       [0., 0., 0.],\n",
       "       [0., 0., 0.]])"
      ]
     },
     "execution_count": 79,
     "metadata": {},
     "output_type": "execute_result"
    }
   ],
   "source": [
    "#Create a 4X3 array\n",
    "start = np.zeros((4,3))\n",
    "start"
   ]
  },
  {
   "cell_type": "code",
   "execution_count": 80,
   "metadata": {},
   "outputs": [
    {
     "name": "stdout",
     "output_type": "stream",
     "text": [
      "(3,)\n"
     ]
    }
   ],
   "source": [
    "# create a rank 1 ndarray with 3 values\n",
    "add_rows = np.array([1,0,2])\n",
    "print(add_rows.shape)"
   ]
  },
  {
   "cell_type": "code",
   "execution_count": 81,
   "metadata": {},
   "outputs": [
    {
     "name": "stdout",
     "output_type": "stream",
     "text": [
      "[[1. 0. 2.]\n",
      " [1. 0. 2.]\n",
      " [1. 0. 2.]\n",
      " [1. 0. 2.]]\n"
     ]
    }
   ],
   "source": [
    "#Add together\n",
    "y = start + add_rows\n",
    "print(y)"
   ]
  },
  {
   "cell_type": "code",
   "execution_count": 82,
   "metadata": {},
   "outputs": [
    {
     "name": "stdout",
     "output_type": "stream",
     "text": [
      "[[0]\n",
      " [1]\n",
      " [2]\n",
      " [3]]\n"
     ]
    }
   ],
   "source": [
    "# create an ndarray which is 4 x 1 to broadcast across columns\n",
    "add_cols = np.array([[0,1,2,3]])\n",
    "add_cols = add_cols.transpose()\n",
    "print(add_cols)"
   ]
  },
  {
   "cell_type": "code",
   "execution_count": 83,
   "metadata": {},
   "outputs": [
    {
     "data": {
      "text/plain": [
       "array([[0., 0., 0.],\n",
       "       [1., 1., 1.],\n",
       "       [2., 2., 2.],\n",
       "       [3., 3., 3.]])"
      ]
     },
     "execution_count": 83,
     "metadata": {},
     "output_type": "execute_result"
    }
   ],
   "source": [
    "# add to each column of 'start' using broadcasting\n",
    "y = start+add_cols\n",
    "y"
   ]
  },
  {
   "cell_type": "code",
   "execution_count": 91,
   "metadata": {},
   "outputs": [
    {
     "name": "stdout",
     "output_type": "stream",
     "text": [
      "[[1. 1. 1.]\n",
      " [1. 1. 1.]\n",
      " [1. 1. 1.]\n",
      " [1. 1. 1.]]\n"
     ]
    }
   ],
   "source": [
    "# this will just broadcast in both dimensions\n",
    "add_scalar = np.array([1])\n",
    "print(start+add_scalar)"
   ]
  },
  {
   "cell_type": "code",
   "execution_count": 87,
   "metadata": {},
   "outputs": [],
   "source": [
    "# create our 3x4 matrix\n",
    "start1 = np.zeros((3,4))"
   ]
  },
  {
   "cell_type": "code",
   "execution_count": 84,
   "metadata": {},
   "outputs": [],
   "source": [
    "# create our (4,) array \n",
    "addA = np.array([1,2,3,4])"
   ]
  },
  {
   "cell_type": "code",
   "execution_count": 89,
   "metadata": {},
   "outputs": [
    {
     "name": "stdout",
     "output_type": "stream",
     "text": [
      "[[1. 2. 3. 4.]\n",
      " [1. 2. 3. 4.]\n",
      " [1. 2. 3. 4.]]\n"
     ]
    }
   ],
   "source": [
    "# add the two together using broadcasting\n",
    "b = start1 + addA\n",
    "print(b)"
   ]
  },
  {
   "cell_type": "code",
   "execution_count": 90,
   "metadata": {},
   "outputs": [
    {
     "name": "stdout",
     "output_type": "stream",
     "text": [
      "[0.6888451  0.42462478 0.60378153]\n",
      "[[ 0.30220871 -0.14324592 -0.58612966]\n",
      " [-0.0328593   0.19302938 -0.4240501 ]\n",
      " [ 0.15865028  0.04357788  0.37080955]\n",
      " [-0.08581491 -0.11252546  0.02627851]\n",
      " [ 0.25108006 -0.05571031  0.26354846]\n",
      " [-0.23775539  0.25351349  0.2185732 ]\n",
      " [-0.47146868 -0.21004024  0.15309102]\n",
      " [ 0.2031229   0.49359209  0.25567847]\n",
      " [-0.18165762 -0.31801883  0.03716178]\n",
      " [ 0.09449395 -0.14417208 -0.31496123]]\n"
     ]
    }
   ],
   "source": [
    "#Application of broadcasting - centering an array\n",
    "\n",
    "#center a variable means subtracting the mean from it\n",
    "#center a vaariable \n",
    "\n",
    "X = np.random.random((10,3))\n",
    "Xmean = X.mean(axis = 0)\n",
    "print(Xmean)\n",
    "X_centered = X-Xmean\n",
    "print(X_centered)"
   ]
  }
 ],
 "metadata": {
  "kernelspec": {
   "display_name": "Python 3",
   "language": "python",
   "name": "python3"
  },
  "language_info": {
   "codemirror_mode": {
    "name": "ipython",
    "version": 3
   },
   "file_extension": ".py",
   "mimetype": "text/x-python",
   "name": "python",
   "nbconvert_exporter": "python",
   "pygments_lexer": "ipython3",
   "version": "3.7.1"
  }
 },
 "nbformat": 4,
 "nbformat_minor": 2
}
