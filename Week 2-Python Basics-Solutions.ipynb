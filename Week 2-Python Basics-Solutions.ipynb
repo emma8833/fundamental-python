{
 "cells": [
  {
   "cell_type": "markdown",
   "metadata": {
    "collapsed": true
   },
   "source": [
    "# Programming for Data Science (Python)"
   ]
  },
  {
   "cell_type": "markdown",
   "metadata": {},
   "source": [
    "In this session, we will learn:\n",
    "•\tData types\n",
    "•\tDefine functions\n",
    "•\tControl flow tools\n",
    "\n"
   ]
  },
  {
   "cell_type": "code",
   "execution_count": 1,
   "metadata": {
    "collapsed": true
   },
   "outputs": [],
   "source": [
    "from IPython.core.interactiveshell import InteractiveShell\n",
    "InteractiveShell.ast_node_interactivity = \"all\""
   ]
  },
  {
   "cell_type": "markdown",
   "metadata": {},
   "source": [
    "1. Continue with lists"
   ]
  },
  {
   "cell_type": "code",
   "execution_count": 20,
   "metadata": {},
   "outputs": [
    {
     "data": {
      "text/plain": [
       "['apple', 'pear', 'mango', 'orange']"
      ]
     },
     "execution_count": 20,
     "metadata": {},
     "output_type": "execute_result"
    }
   ],
   "source": [
    "#Read in a string that is separated with comma and turn it into a list\n",
    "mystr = \"apple,pear,mango,orange\"\n",
    "mylist = mystr.split(',')\n",
    "mylist"
   ]
  },
  {
   "cell_type": "code",
   "execution_count": 8,
   "metadata": {},
   "outputs": [],
   "source": []
  },
  {
   "cell_type": "code",
   "execution_count": 21,
   "metadata": {
    "scrolled": true
   },
   "outputs": [
    {
     "data": {
      "text/plain": [
       "['apple', 'pear', 'mango', 'orange', ['strawberry', 'melon']]"
      ]
     },
     "execution_count": 21,
     "metadata": {},
     "output_type": "execute_result"
    }
   ],
   "source": [
    "#Make changes to a list - append \n",
    "mylist.append(['strawberry','melon'])\n",
    "mylist"
   ]
  },
  {
   "cell_type": "code",
   "execution_count": null,
   "metadata": {},
   "outputs": [],
   "source": []
  },
  {
   "cell_type": "code",
   "execution_count": 3,
   "metadata": {},
   "outputs": [
    {
     "data": {
      "text/plain": [
       "['apple', 'pear', 'mango', ' orange', ['strawberry', 'melon']]"
      ]
     },
     "execution_count": 3,
     "metadata": {},
     "output_type": "execute_result"
    }
   ],
   "source": [
    "mylist.append(['strawberry','melon'])\n",
    "mylist"
   ]
  },
  {
   "cell_type": "code",
   "execution_count": 22,
   "metadata": {
    "scrolled": true
   },
   "outputs": [
    {
     "data": {
      "text/plain": [
       "['apple',\n",
       " 'pear',\n",
       " 'mango',\n",
       " 'orange',\n",
       " ['strawberry', 'melon'],\n",
       " 'banana',\n",
       " 'grape']"
      ]
     },
     "execution_count": 22,
     "metadata": {},
     "output_type": "execute_result"
    }
   ],
   "source": [
    "#Make changes to a list - extend\n",
    "mylist.extend(['banana','grape'])\n",
    "mylist"
   ]
  },
  {
   "cell_type": "code",
   "execution_count": 23,
   "metadata": {},
   "outputs": [
    {
     "data": {
      "text/plain": [
       "['apple',\n",
       " 'starfruit',\n",
       " 'pear',\n",
       " 'mango',\n",
       " 'orange',\n",
       " ['strawberry', 'melon'],\n",
       " 'banana',\n",
       " 'grape']"
      ]
     },
     "execution_count": 23,
     "metadata": {},
     "output_type": "execute_result"
    }
   ],
   "source": [
    "#Make changes to a list - insert\n",
    "mylist.insert(1, 'starfruit')\n",
    "mylist"
   ]
  },
  {
   "cell_type": "code",
   "execution_count": 24,
   "metadata": {},
   "outputs": [
    {
     "data": {
      "text/plain": [
       "['apple',\n",
       " 'starfruit',\n",
       " 'pear',\n",
       " 'mango',\n",
       " 'orange',\n",
       " ['strawberry', 'melon'],\n",
       " 'banana',\n",
       " 'grape',\n",
       " 'coffee',\n",
       " 'tea']"
      ]
     },
     "execution_count": 24,
     "metadata": {},
     "output_type": "execute_result"
    }
   ],
   "source": [
    "#Make changes to a list - concatenate\n",
    "mynewlist = ['coffee','tea']\n",
    "mylist + mynewlist"
   ]
  },
  {
   "cell_type": "code",
   "execution_count": 25,
   "metadata": {
    "scrolled": true
   },
   "outputs": [
    {
     "data": {
      "text/plain": [
       "['apple',\n",
       " 'pear',\n",
       " 'mango',\n",
       " 'orange',\n",
       " ['strawberry', 'melon'],\n",
       " 'banana',\n",
       " 'grape']"
      ]
     },
     "execution_count": 25,
     "metadata": {},
     "output_type": "execute_result"
    }
   ],
   "source": [
    "#Make changes to a list - del, pop, remove\n",
    "del mylist[1]\n",
    "mylist"
   ]
  },
  {
   "cell_type": "code",
   "execution_count": 26,
   "metadata": {},
   "outputs": [
    {
     "data": {
      "text/plain": [
       "['apple', 'pear', 'orange', ['strawberry', 'melon'], 'banana', 'grape']"
      ]
     },
     "execution_count": 26,
     "metadata": {},
     "output_type": "execute_result"
    }
   ],
   "source": [
    "mylist.pop(2)\n",
    "mylist"
   ]
  },
  {
   "cell_type": "code",
   "execution_count": 27,
   "metadata": {},
   "outputs": [
    {
     "data": {
      "text/plain": [
       "['apple', 'orange', ['strawberry', 'melon'], 'banana', 'grape']"
      ]
     },
     "execution_count": 27,
     "metadata": {},
     "output_type": "execute_result"
    }
   ],
   "source": [
    "del mylist[1]\n",
    "mylist"
   ]
  },
  {
   "cell_type": "code",
   "execution_count": 28,
   "metadata": {},
   "outputs": [
    {
     "data": {
      "text/plain": [
       "['apple', 'orange', 'banana', 'grape']"
      ]
     },
     "execution_count": 28,
     "metadata": {},
     "output_type": "execute_result"
    }
   ],
   "source": [
    "mylist.pop(2)\n",
    "mylist"
   ]
  },
  {
   "cell_type": "code",
   "execution_count": 29,
   "metadata": {},
   "outputs": [
    {
     "data": {
      "text/plain": [
       "['apple', 'orange', 'grape']"
      ]
     },
     "execution_count": 29,
     "metadata": {},
     "output_type": "execute_result"
    }
   ],
   "source": [
    "mylist.remove('banana')\n",
    "mylist"
   ]
  },
  {
   "cell_type": "code",
   "execution_count": 30,
   "metadata": {},
   "outputs": [
    {
     "data": {
      "text/plain": [
       "['orange', 'grape', 'apple']"
      ]
     },
     "execution_count": 30,
     "metadata": {},
     "output_type": "execute_result"
    }
   ],
   "source": [
    "#Some useful functions\n",
    "len(mylist)\n",
    "#mylist.pop(3)\n",
    "mylist.sort()\n",
    "mylist\n",
    "mylist.sort(reverse = True)\n",
    "mylist"
   ]
  },
  {
   "cell_type": "code",
   "execution_count": 19,
   "metadata": {
    "scrolled": true
   },
   "outputs": [
    {
     "data": {
      "text/plain": [
       "['mango', 'strawberry']"
      ]
     },
     "execution_count": 19,
     "metadata": {},
     "output_type": "execute_result"
    }
   ],
   "source": [
    "#Some useful functions\n",
    "mylist.reverse()\n",
    "mylist"
   ]
  },
  {
   "cell_type": "code",
   "execution_count": null,
   "metadata": {},
   "outputs": [],
   "source": [
    "len(mylist)"
   ]
  },
  {
   "cell_type": "code",
   "execution_count": 18,
   "metadata": {},
   "outputs": [
    {
     "data": {
      "text/plain": [
       "['strawberry', 'mango']"
      ]
     },
     "execution_count": 18,
     "metadata": {},
     "output_type": "execute_result"
    }
   ],
   "source": [
    "#Some useful functions\n",
    "'apple' in mylist\n",
    "'apple' not in mylist\n",
    "mylist.index('apple')\n",
    "mylist[0]='strawberry'\n",
    "mylist"
   ]
  },
  {
   "cell_type": "markdown",
   "metadata": {},
   "source": [
    "2. dictionary: dictionary contains a sequence of key:value pairs."
   ]
  },
  {
   "cell_type": "code",
   "execution_count": 23,
   "metadata": {},
   "outputs": [
    {
     "data": {
      "text/plain": [
       "{'Peter': 94.0, 'Susan': 87.0, 'Tina': 99.9}"
      ]
     },
     "execution_count": 23,
     "metadata": {},
     "output_type": "execute_result"
    }
   ],
   "source": [
    "# To create a dictionary\n",
    "gradebook = {}\n",
    "gradebook['Susan'] = 87.0\n",
    "gradebook['Peter'] = 94.0\n",
    "gradebook['Tina'] = 99.9\n",
    "gradebook"
   ]
  },
  {
   "cell_type": "code",
   "execution_count": 24,
   "metadata": {},
   "outputs": [
    {
     "data": {
      "text/plain": [
       "{'Peter': 94.0, 'Susan': 87.0, 'Tina': [90.0, 95.0]}"
      ]
     },
     "execution_count": 24,
     "metadata": {},
     "output_type": "execute_result"
    }
   ],
   "source": [
    "#To change an element\n",
    "gradebook['Tina'] = [90.0, 95.0]\n",
    "gradebook"
   ]
  },
  {
   "cell_type": "code",
   "execution_count": 25,
   "metadata": {},
   "outputs": [
    {
     "data": {
      "text/plain": [
       "{'Joe': 90.0, 'Peter': 94.0, 'Susan': 87.0, 'Tina': [90.0, 95.0]}"
      ]
     },
     "execution_count": 25,
     "metadata": {},
     "output_type": "execute_result"
    }
   ],
   "source": [
    "# To add an element to a dictionary\n",
    "gradebook.update({'Joe':90.0})\n",
    "gradebook"
   ]
  },
  {
   "cell_type": "code",
   "execution_count": 30,
   "metadata": {},
   "outputs": [
    {
     "data": {
      "text/plain": [
       "{1: 10, 2: 20, 3: 30, 4: 40, 5: 60, 6: 60}"
      ]
     },
     "execution_count": 30,
     "metadata": {},
     "output_type": "execute_result"
    }
   ],
   "source": [
    "#Could you concatenate three dictionaries together?\n",
    "dict1 = {3:30,2:20}\n",
    "dict2 = {1:10,4:40}\n",
    "dict3 = {5:60,6:60}\n",
    "\n",
    "dict4 = {}\n",
    "\n",
    "for d in (dict1, dict2, dict3):\n",
    "    dict4.update(d)\n",
    "\n",
    "dict4\n"
   ]
  },
  {
   "cell_type": "markdown",
   "metadata": {},
   "source": [
    "3. Functions: "
   ]
  },
  {
   "cell_type": "code",
   "execution_count": 31,
   "metadata": {},
   "outputs": [
    {
     "name": "stdout",
     "output_type": "stream",
     "text": [
      "Input a phrase: dinner time\n",
      "DINNER TIME!\n"
     ]
    }
   ],
   "source": [
    "# define (def) a simple function called yell_it() and call the function\n",
    "def yell_it():\n",
    "    phrase = input(\"Input a phrase: \")\n",
    "    print(phrase.upper()+'!')\n",
    "\n",
    "yell_it()"
   ]
  },
  {
   "cell_type": "code",
   "execution_count": 33,
   "metadata": {},
   "outputs": [
    {
     "name": "stdout",
     "output_type": "stream",
     "text": [
      "What do you want to yell?Have you done your homework?\n",
      "HAVE YOU DONE YOUR HOMEWORK?!\n"
     ]
    }
   ],
   "source": [
    "# define a function yell_this() that does the same, but take an argument (the input from users).\n",
    "def yell_this(words_to_yell):\n",
    "    print(words_to_yell.upper()+'!')\n",
    "\n",
    "mywords = input(\"What do you want to yell?\")\n",
    "yell_this(mywords)\n"
   ]
  },
  {
   "cell_type": "code",
   "execution_count": 34,
   "metadata": {},
   "outputs": [
    {
     "name": "stdout",
     "output_type": "stream",
     "text": [
      "?!\n"
     ]
    }
   ],
   "source": [
    "#Set default value for arguments\n",
    "def yell_this(words_to_yell = '?'):\n",
    "    print(words_to_yell.upper()+'!')\n",
    "yell_this()"
   ]
  },
  {
   "cell_type": "code",
   "execution_count": 35,
   "metadata": {},
   "outputs": [
    {
     "name": "stdout",
     "output_type": "stream",
     "text": [
      "What do you want to yell?nothing\n",
      "NOTHING!\n"
     ]
    }
   ],
   "source": [
    "# Use keyword argument\n",
    "def yell_this(words_to_yell = '?'):\n",
    "    print(words_to_yell.upper()+'!')\n",
    "\n",
    "mywords = input(\"What do you want to yell?\")    \n",
    "yell_this(words_to_yell = mywords)\n"
   ]
  },
  {
   "cell_type": "code",
   "execution_count": null,
   "metadata": {},
   "outputs": [],
   "source": [
    "#define a function with a return value \n",
    "#create and call make_doctor() with full_name argument from user input - then print the return value\n",
    "def make_doctor(name):\n",
    "    Doctor = \"Doctor\"+' '+name\n",
    "    return Doctor\n",
    "full_name = input(\"Name: \")\n",
    "new_name = make_doctor(full_name)\n",
    "print(new_name)"
   ]
  },
  {
   "cell_type": "code",
   "execution_count": null,
   "metadata": {},
   "outputs": [],
   "source": [
    "# Now let's make a scheduler that takes the input from users and return \n",
    "# define a function that gets the first and last names of the user and return the full name\n",
    "def get_name():\n",
    "    first = input('Please enter your first name: ')\n",
    "    last = input('Please enter your last name: ')\n",
    "    return first.capitalize()+' '+last.capitalize()\n",
    "def get_event():\n",
    "    event = input('Please enter your event name: ')\n",
    "    return event.title()\n",
    "def get_datetime():\n",
    "    date = input('Please enter your event date (e.g. 1/24/2019): ')\n",
    "    time = input('Please enter your event time (e.g. 9:00am): ')\n",
    "    return date+' at '+time\n",
    "def format_item(host,datetime,event):\n",
    "    return 'Event title: '+event+'\\nDate-Time: '+datetime+'\\nHost: '+host\n",
    "def scheduler():\n",
    "    host = get_name()\n",
    "    datetime = get_datetime()\n",
    "    event = get_event()\n",
    "    item = format_item(host,datetime,event)\n",
    "    return item\n",
    "\n",
    "def get_name():\n",
    "    first = input('Please enter your first name:')\n",
    "    last = input('Please enter your last name: ')\n",
    "    return first.capitalize()+''+last.capitalize()\n",
    "def get_event():\n",
    "    event =input('Please enter your event name:')\n",
    "    return event.title()\n",
    "def get_dateime():\n",
    "    data = input('Please enter your event date: ')\n",
    "    time = input('Please enter youe event time: ')\n",
    "    return date+' at '+time\n",
    "def format_item(host,datatime,event):\n",
    "    returm 'Event title: '+event+'\\nDate-Time: '+datatime+'\\nHost: '+host\n",
    "def scheduler():\n",
    "    host = get_name()\n",
    "    datetime =get_datetime()\n",
    "    event = get_event()\n",
    "    item = format_item(host,datetime,event)\n",
    "    return item \n"
   ]
  },
  {
   "cell_type": "code",
   "execution_count": 41,
   "metadata": {},
   "outputs": [
    {
     "name": "stdout",
     "output_type": "stream",
     "text": [
      "Please enter your first name: ling\n",
      "Please enter your last name: ge\n",
      "Please enter your event date (e.g. 1/24/2019): 1/24/2019\n",
      "Please enter your event time (e.g. 9:00am): pizza night\n",
      "Please enter your event name: pizza night\n",
      "Event title: Pizza Night\n",
      "Date-Time: 1/24/2019 at pizza night\n",
      "Host: Ling Ge\n"
     ]
    }
   ],
   "source": [
    "item = scheduler()\n",
    "print(item)"
   ]
  },
  {
   "cell_type": "code",
   "execution_count": null,
   "metadata": {},
   "outputs": [],
   "source": [
    "def get_name():\n",
    "    first = input('Please enter your first name:')\n",
    "    last = input('Please enter your last name: ')\n",
    "    return first.capitalize()+''+last.capitalize()\n",
    "def get_event():\n",
    "    event =input('Please enter your event name:')\n",
    "    return event.title()\n",
    "def get_dateime():\n",
    "    data = input('Please enter your event date: ')\n",
    "    time = input('Please enter youe event time: ')\n",
    "    return date+' at '+time\n",
    "def format_item(host,datatime,event):\n",
    "    returm 'Event title: '+event+'\\nDate-Time: '+datatime+'\\nHost: '+host\n",
    "def scheduler():\n",
    "    host = get_name()\n",
    "    datetime =get_datetime()\n",
    "    event = get_event()\n",
    "    item = format_item(host,datetime,event)\n",
    "    return item "
   ]
  },
  {
   "cell_type": "code",
   "execution_count": null,
   "metadata": {},
   "outputs": [],
   "source": [
    "item = scheduler()\n",
    "print(item)"
   ]
  },
  {
   "cell_type": "code",
   "execution_count": 37,
   "metadata": {},
   "outputs": [],
   "source": [
    "def get_name():\n",
    "    first = input('Please enter your first name: ')\n",
    "    last = input('Please enter your last name: ')\n",
    "    return first.capitalize()+' '+last.capitalize()\n",
    "def get_event():\n",
    "    event = input('Please enter your event name: ')\n",
    "    return event.title()\n",
    "def get_datetime():\n",
    "    date = input('Please enter your event date (e.g. 1/24/2019): ')\n",
    "    time = input('Please enter your event time (e.g. 9:00am): ')\n",
    "    return date+' at '+time\n",
    "def format_item(host,datetime,event):\n",
    "    return 'Event title: '+event+'\\nDate-Time: '+datetime+'\\nHost: '+host\n",
    "def scheduler():\n",
    "    host = get_name()\n",
    "    datetime = get_datetime()\n",
    "    event = get_event()\n",
    "    item = format_item(host,datetime,event)\n",
    "    return item\n"
   ]
  },
  {
   "cell_type": "code",
   "execution_count": 39,
   "metadata": {},
   "outputs": [
    {
     "name": "stdout",
     "output_type": "stream",
     "text": [
      "Please enter your first name: jin\n",
      "Please enter your last name: he\n",
      "Please enter your event date (e.g. 1/24/2019): 3/7/2019\n",
      "Please enter your event time (e.g. 9:00am): 16:00\n",
      "Please enter your event name: Python Exam\n",
      "Event title: Python Exam\n",
      "Date-Time: 3/7/2019 at 16:00\n",
      "Host: Jin He\n"
     ]
    }
   ],
   "source": [
    "item = scheduler()\n",
    "print(item)"
   ]
  },
  {
   "cell_type": "markdown",
   "metadata": {},
   "source": [
    "4. Control flow - conditions with \"if, elif and else\""
   ]
  },
  {
   "cell_type": "code",
   "execution_count": 43,
   "metadata": {},
   "outputs": [
    {
     "name": "stdout",
     "output_type": "stream",
     "text": [
      "do something\n",
      "str1 is lowercased.\n"
     ]
    }
   ],
   "source": [
    "# for two cases\n",
    "if True:\n",
    "    print('do something')\n",
    "else:\n",
    "    print(\"do something else\")\n",
    "    \n",
    "# if there are more than two conditions might happen, use elif\n",
    "\n",
    "# Test whether two strings are lowercased and print out the results, use function .islower()\n",
    "str1 = 'welcome'\n",
    "str2 = 'Goodbye'\n",
    "if str1.islower() and str2.islower():\n",
    "    print('Both are lowercased.')\n",
    "elif str1.islower():\n",
    "    print('str1 is lowercased.')\n",
    "elif str2.islower():\n",
    "    print('str2 is lowercased.')\n",
    "else:\n",
    "    print('None is lowercased.')"
   ]
  },
  {
   "cell_type": "code",
   "execution_count": 3,
   "metadata": {},
   "outputs": [
    {
     "name": "stdout",
     "output_type": "stream",
     "text": [
      "do something\n"
     ]
    }
   ],
   "source": [
    "if True:\n",
    "    print('do something')\n",
    "else:\n",
    "    print(\"do something else\")"
   ]
  },
  {
   "cell_type": "code",
   "execution_count": 2,
   "metadata": {},
   "outputs": [
    {
     "name": "stdout",
     "output_type": "stream",
     "text": [
      "Both are lowercased.\n"
     ]
    }
   ],
   "source": [
    "str1 ='welcome'\n",
    "str2 ='goodbye'\n",
    "if str1.islower() and str2.islower():\n",
    "    print('Both are lowercased.')\n",
    "elif str1.islower():\n",
    "    print('str1 is lowercased.')\n",
    "elif str2.islower():\n",
    "    print('str2 is lowercased.')\n",
    "else:\n",
    "    print('None is lowercased.')"
   ]
  },
  {
   "cell_type": "markdown",
   "metadata": {},
   "source": [
    "Example: to order a sandwich\n",
    "<img src=\"flow.png\">"
   ]
  },
  {
   "cell_type": "code",
   "execution_count": 44,
   "metadata": {},
   "outputs": [
    {
     "name": "stdout",
     "output_type": "stream",
     "text": [
      "Welcome to Limited Sandwich. Please make your selection.\n",
      "'c' for cheese and 'v' for veggie\n",
      "c\n",
      "Please select your cheese:\n",
      "\n",
      "'ch' for cheddar cheese and 'm' for Manchego\n",
      "m\n",
      "Here is your Manchego cheese sandwich. Thank you.\n"
     ]
    }
   ],
   "source": [
    "# We also consider the case that the user input is invalid.\n",
    "print(\"Welcome to Limited Sandwich. Please make your selection.\")\n",
    "sandwichtype = input(\"'c' for cheese and 'v' for veggie\\n\")\n",
    "\n",
    "if sandwichtype.lower() == 'c':\n",
    "    print('Please select your cheese:\\n')\n",
    "    cheesetype = input(\"'ch' for cheddar cheese and 'm' for Manchego\\n\")\n",
    "    if cheesetype.lower() == 'ch':\n",
    "        print(\"Here is your cheddar cheese sandwich. Thank you.\")\n",
    "    elif cheesetype.lower() == 'm':\n",
    "        print(\"Here is your Manchego cheese sandwich. Thank you.\")\n",
    "    else:\n",
    "        print('Sorry, we do not have this type of sandwich. Goodbye.')\n",
    "elif sandwichtype.lower() == 'v':\n",
    "    print(\"Here is your veggie sandwich. Thank you.\")\n",
    "else:\n",
    "    print('Sorry, we do not have this type of sandwich. Goodbye.')"
   ]
  },
  {
   "cell_type": "code",
   "execution_count": 4,
   "metadata": {},
   "outputs": [
    {
     "name": "stdout",
     "output_type": "stream",
     "text": [
      "Welcome to Limited Sandwich. Please make your selection.\n",
      "'c' for cheese and 'v' for veggie\n",
      "v\n",
      "Here is your veggie sandwich. Thank you.\n"
     ]
    }
   ],
   "source": [
    "print(\"Welcome to Limited Sandwich. Please make your selection.\")\n",
    "sandwichtype = input(\"'c' for cheese and 'v' for veggie\\n\")\n",
    "\n",
    "if sandwichtype.lower() == 'c':\n",
    "    print('Please select your cheese:\\n')\n",
    "    cheesetype = input(\"'ch' for cheddar cheese and 'm' for Manchego\\n\")\n",
    "    if cheesetype.lower() == 'ch':\n",
    "        print(\"Here is your cheddar cheese sandwich. Thank you.\")\n",
    "    elif cheesetype.lower() == 'm':\n",
    "        print(\"Here is your Manchego cheese sandwich. Thank you.\")\n",
    "    else:\n",
    "        print('Sorry, we do not have this type of sandwich. Goodbye.')\n",
    "elif sandwichtype.lower() == 'v':\n",
    "    print(\"Here is your veggie sandwich. Thank you.\")\n",
    "else:\n",
    "    print('Sorry, we do not have this type of sandwich. Goodbye.')"
   ]
  },
  {
   "cell_type": "markdown",
   "metadata": {},
   "source": [
    "5. Control flow - while True"
   ]
  },
  {
   "cell_type": "code",
   "execution_count": null,
   "metadata": {
    "collapsed": true
   },
   "outputs": [],
   "source": [
    "#while True loops forever unless a break statement is used\n",
    "#use while TRUE to ensure that the user enters only characters for names.\n"
   ]
  },
  {
   "cell_type": "code",
   "execution_count": null,
   "metadata": {
    "collapsed": true
   },
   "outputs": [],
   "source": [
    "#Let's revisit our sandwich problem. Instead of saying goodbye when the customer input is wrong, we keep asking\n",
    "#them to make a selection until they get it right.\n"
   ]
  },
  {
   "cell_type": "code",
   "execution_count": null,
   "metadata": {
    "collapsed": true
   },
   "outputs": [],
   "source": [
    "#to allow entering product name until the user types in \"Done\"\n"
   ]
  },
  {
   "cell_type": "markdown",
   "metadata": {},
   "source": [
    "6. Control flow - while (conditions)"
   ]
  },
  {
   "cell_type": "code",
   "execution_count": null,
   "metadata": {
    "collapsed": true
   },
   "outputs": [],
   "source": [
    "# if the user enters a number is multiple of 3, a winner; otherwise, no; Give a chance for the user to quit.\n"
   ]
  },
  {
   "cell_type": "markdown",
   "metadata": {},
   "source": [
    "7. Control flow - for loop"
   ]
  },
  {
   "cell_type": "code",
   "execution_count": null,
   "metadata": {
    "collapsed": true
   },
   "outputs": [],
   "source": [
    "# Allow a user to type in a combination of user name and password up to three attempts. Remind the user if\n",
    "# the combination is wrong.\n"
   ]
  },
  {
   "cell_type": "code",
   "execution_count": null,
   "metadata": {
    "collapsed": true
   },
   "outputs": [],
   "source": [
    "#Print out the dictionary\n"
   ]
  }
 ],
 "metadata": {
  "kernelspec": {
   "display_name": "Python 3",
   "language": "python",
   "name": "python3"
  },
  "language_info": {
   "codemirror_mode": {
    "name": "ipython",
    "version": 3
   },
   "file_extension": ".py",
   "mimetype": "text/x-python",
   "name": "python",
   "nbconvert_exporter": "python",
   "pygments_lexer": "ipython3",
   "version": "3.7.1"
  }
 },
 "nbformat": 4,
 "nbformat_minor": 2
}
