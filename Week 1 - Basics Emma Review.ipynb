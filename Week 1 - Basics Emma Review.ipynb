{
 "cells": [
  {
   "cell_type": "markdown",
   "metadata": {
    "collapsed": true
   },
   "source": [
    "# Programming for Data Science (Python)"
   ]
  },
  {
   "cell_type": "markdown",
   "metadata": {},
   "source": [
    "In this session, we will learn:\n",
    "•\tData types basics"
   ]
  },
  {
   "cell_type": "code",
   "execution_count": 7,
   "metadata": {
    "collapsed": true
   },
   "outputs": [],
   "source": [
    "from IPython.core.interactiveshell import InteractiveShell\n",
    "InteractiveShell.ast_node_interactivity = \"all\""
   ]
  },
  {
   "cell_type": "code",
   "execution_count": 5,
   "metadata": {},
   "outputs": [
    {
     "name": "stdout",
     "output_type": "stream",
     "text": [
      "hello, world\n",
      "LET'S GO\n",
      "hello, \n",
      "world\n",
      "555 867 5309\n",
      "hello,world\n"
     ]
    },
    {
     "ename": "NameError",
     "evalue": "name 'upper' is not defined",
     "output_type": "error",
     "traceback": [
      "\u001b[1;31m---------------------------------------------------------------------------\u001b[0m",
      "\u001b[1;31mNameError\u001b[0m                                 Traceback (most recent call last)",
      "\u001b[1;32m<ipython-input-5-6232838e1366>\u001b[0m in \u001b[0;36m<module>\u001b[1;34m\u001b[0m\n\u001b[0;32m      5\u001b[0m \u001b[0mprint\u001b[0m\u001b[1;33m(\u001b[0m\u001b[1;36m555\u001b[0m\u001b[1;33m,\u001b[0m \u001b[1;36m867\u001b[0m\u001b[1;33m,\u001b[0m \u001b[1;36m5309\u001b[0m\u001b[1;33m)\u001b[0m\u001b[1;33m\u001b[0m\u001b[1;33m\u001b[0m\u001b[0m\n\u001b[0;32m      6\u001b[0m \u001b[0mprint\u001b[0m\u001b[1;33m(\u001b[0m\u001b[1;34m'hello,world'\u001b[0m\u001b[1;33m)\u001b[0m\u001b[1;33m\u001b[0m\u001b[1;33m\u001b[0m\u001b[0m\n\u001b[1;32m----> 7\u001b[1;33m \u001b[0mupper\u001b[0m\u001b[1;33m(\u001b[0m\u001b[0mhello\u001b[0m\u001b[1;33m)\u001b[0m\u001b[1;33m\u001b[0m\u001b[1;33m\u001b[0m\u001b[0m\n\u001b[0m",
      "\u001b[1;31mNameError\u001b[0m: name 'upper' is not defined"
     ]
    }
   ],
   "source": [
    "#Your first python code\n",
    "print('hello, world')\n",
    "print(\"LET'S GO\")\n",
    "print('hello, \\nworld')# \\n是换行的意思\n",
    "print(555, 867, 5309)\n",
    "print('hello,world')\n",
    "upper(hello)"
   ]
  },
  {
   "cell_type": "code",
   "execution_count": null,
   "metadata": {},
   "outputs": [],
   "source": [
    "‘Hello’.upper().islower() \n",
    "#Your first python code\n",
    "print('hello, world')\n",
    "print(\"LET'S GO\")\n",
    "print('hello, \\nworld')# \\n是换行的意思\n",
    "print(555, 867, 5309)\n",
    "\n",
    "#isupper()和islower()字符串方法判断字符串至少有一个字母，并且所有字母都是大写或小写，isupper()和 islower()方法就会相应地返回布尔值 True。否则，该方法返回 False。\n",
    "print('hello,world')\n",
    "upper(hello)"
   ]
  },
  {
   "cell_type": "code",
   "execution_count": 3,
   "metadata": {},
   "outputs": [
    {
     "name": "stdout",
     "output_type": "stream",
     "text": [
      "hello,world\n",
      "LET'S GO\n",
      "hello,\n",
      "world\n"
     ]
    }
   ],
   "source": [
    "print('hello,world')\n",
    "print(\"LET'S GO\")\n",
    "print('hello,\\nworld')"
   ]
  },
  {
   "cell_type": "code",
   "execution_count": 7,
   "metadata": {},
   "outputs": [
    {
     "name": "stdout",
     "output_type": "stream",
     "text": [
      "What is your age\n"
     ]
    }
   ],
   "source": [
    "print('What is your age')\n"
   ]
  },
  {
   "cell_type": "code",
   "execution_count": null,
   "metadata": {},
   "outputs": [],
   "source": [
    "60\n"
   ]
  },
  {
   "cell_type": "code",
   "execution_count": null,
   "metadata": {},
   "outputs": [],
   "source": [
    "# Try out some arithmetic functions here\n",
    "18//5\n",
    "4875//13\n",
    "4875%13\n",
    "# What does divmod(x,y) do? Get values of x and y from the user and call this function.\n",
    "x = input(\"Please enter the first number: \")\n",
    "y = input(\"Please enter the second number: \")\n",
    "quo = divmod(int(x),int(y))\n",
    "print(quo)\n",
    "\n",
    "\n"
   ]
  },
  {
   "cell_type": "code",
   "execution_count": 1,
   "metadata": {},
   "outputs": [
    {
     "data": {
      "text/plain": [
       "1"
      ]
     },
     "execution_count": 1,
     "metadata": {},
     "output_type": "execute_result"
    }
   ],
   "source": [
    "18//15\n"
   ]
  },
  {
   "cell_type": "code",
   "execution_count": null,
   "metadata": {},
   "outputs": [],
   "source": [
    "#把除数和余数运算结果结合起来，返回一个包含商和余数的元组(a // b, a % b)。\n",
    "\n",
    "用法：divmod(a,b)\n",
    "\n",
    " \n",
    "\n",
    "7//2#结果为商\n",
    "\n",
    "7%2#结果为余数"
   ]
  },
  {
   "cell_type": "code",
   "execution_count": 10,
   "metadata": {},
   "outputs": [
    {
     "name": "stdout",
     "output_type": "stream",
     "text": [
      "input the ridius of the circle:20\n",
      "The area of the circle with radius20.0is1256.6370614359173\n"
     ]
    }
   ],
   "source": [
    "r = float(input('input the ridius of the circle:'))\n",
    "print('The area of the circle with radius' + str(r) + 'is' + ：把除数和余数运算结果结合起来，返回一个包含商和余数的元组(a // b, a % b)。\n",
    "\n",
    "用法：divmod(a,b)\n",
    "\n",
    " \n",
    "\n",
    "7//2#结果为商\n",
    "\n",
    "7%2#结果为余数"
   ]
  },
  {
   "cell_type": "code",
   "execution_count": 9,
   "metadata": {
    "scrolled": true
   },
   "outputs": [
    {
     "name": "stdout",
     "output_type": "stream",
     "text": [
      "Input the radius of the circle: 20\n",
      "The area of the circle with radius 20.0 is: 1256.6370614359173\n"
     ]
    }
   ],
   "source": [
    "#Get radius from the user and caculate the area\n",
    "from math import pi\n",
    "r = float(input('Input the radius of the circle: '))\n",
    "print('The area of the circle with radius ' + str(r) + ' is: ' + str(pi*r**2)) #pi indicate 3.14159"
   ]
  },
  {
   "cell_type": "code",
   "execution_count": 1,
   "metadata": {},
   "outputs": [
    {
     "name": "stdout",
     "output_type": "stream",
     "text": [
      "input the radius of the circle: 4\n",
      "The are of the circle with radius4.0is:50.26548245743669\n"
     ]
    }
   ],
   "source": [
    "from math import pi \n",
    "r = float(input('input the radius of the circle: '))\n",
    "print('The are of the circle with radius' +str (r) + 'is:' +str(pi*r**2))"
   ]
  },
  {
   "cell_type": "code",
   "execution_count": null,
   "metadata": {
    "collapsed": true
   },
   "outputs": [],
   "source": [
    "from math import pi\n",
    "r = float(input('Input the radius of the circle:'))\n",
    "print('The area of the circle with radius'+ str(r) + ‘is’)\n",
    "\n",
    "\n",
    "\n",
    "\n",
    "\n",
    "\n",
    "#函数功能将一个数值或者字符转换成浮点型数值"
   ]
  },
  {
   "cell_type": "markdown",
   "metadata": {},
   "source": [
    "2. Strings: a sequence of characters"
   ]
  },
  {
   "cell_type": "code",
   "execution_count": null,
   "metadata": {
    "collapsed": true
   },
   "outputs": [],
   "source": [
    "#print a two line sentence using escape character\n",
    "\n",
    "\n",
    "#You may concatenate strings together with \"+\". Try concatenate two strings and the arithmetic results of two numbers.\n",
    "#Use variables\n"
   ]
  },
  {
   "cell_type": "markdown",
   "metadata": {},
   "source": [
    "3. List: a container which holds comma separated values (items or elements) between square brackets where items or elements need not all have the same type."
   ]
  },
  {
   "cell_type": "code",
   "execution_count": 14,
   "metadata": {},
   "outputs": [
    {
     "data": {
      "text/plain": [
       "4"
      ]
     },
     "execution_count": 14,
     "metadata": {},
     "output_type": "execute_result"
    },
    {
     "data": {
      "text/plain": [
       "6"
      ]
     },
     "execution_count": 14,
     "metadata": {},
     "output_type": "execute_result"
    },
    {
     "data": {
      "text/plain": [
       "[4, 5, 6]"
      ]
     },
     "execution_count": 14,
     "metadata": {},
     "output_type": "execute_result"
    }
   ],
   "source": [
    "#create a list and practice slicing the list\n",
    "mylist = [1,2,3,4,5,6,7,8]\n",
    "mylist[3]\n",
    "mylist[-3]\n",
    "mylist[3:6]\n",
    "\n",
    "#print out a sublist that picks the second one of every two items"
   ]
  },
  {
   "cell_type": "code",
   "execution_count": null,
   "metadata": {
    "collapsed": true
   },
   "outputs": [],
   "source": [
    "# Here we define a list\n",
    "responseList = [\"It is certain\", \"It is decidedly so\", \"Without a doubt\", \"Yes, definitely\", \"You may rely on it\", \n",
    "                \"As I see it, yes\", \"Most likely\", \"Outlook good\", \"Yes\", \"Signs point to yes\", \"Reply hazy try again\", \n",
    "                \"Ask again later\", \"Better not tell you now\", \"Cannot predict now\", \"Concentrate and ask again\", \n",
    "                \"Don't count on it\", \"My reply is no\", \"My sources say no\", \"Outlook not so good\", \"Very doubtful\"]\n",
    "#How many items in this list?\n",
    "\n",
    "#Refer to the elements in the list using the ways on our slides or slice it\n"
   ]
  },
  {
   "cell_type": "code",
   "execution_count": null,
   "metadata": {
    "collapsed": true
   },
   "outputs": [],
   "source": [
    "# Now let's try to create a Magic-8 ball with the responseList. Hint: Magic-8 ball returns an answer when it takes a question\n",
    "# from the user. How can we get a number from the user's question so that we can use it to pick up an answer from the list?\n",
    "# Maybe try the number of characters in the question. Think about the case when length of the question is longer than the list.\n",
    "\n"
   ]
  }
 ],
 "metadata": {
  "kernelspec": {
   "display_name": "Python 3",
   "language": "python",
   "name": "python3"
  },
  "language_info": {
   "codemirror_mode": {
    "name": "ipython",
    "version": 3
   },
   "file_extension": ".py",
   "mimetype": "text/x-python",
   "name": "python",
   "nbconvert_exporter": "python",
   "pygments_lexer": "ipython3",
   "version": "3.7.1"
  }
 },
 "nbformat": 4,
 "nbformat_minor": 2
}
