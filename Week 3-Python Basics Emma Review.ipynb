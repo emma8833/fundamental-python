{
 "cells": [
  {
   "cell_type": "markdown",
   "metadata": {
    "collapsed": true
   },
   "source": [
    "# Programming for Data Science (Python)"
   ]
  },
  {
   "cell_type": "markdown",
   "metadata": {},
   "source": [
    "## In this session, we will learn:\n",
    "<p>•\tFlow control</p>\n",
    "<p>•\tMore on datatypes</p>"
   ]
  },
  {
   "cell_type": "code",
   "execution_count": 1,
   "metadata": {},
   "outputs": [],
   "source": [
    "from IPython.core.interactiveshell import InteractiveShell\n",
    "InteractiveShell.ast_node_interactivity = \"all\""
   ]
  },
  {
   "cell_type": "markdown",
   "metadata": {},
   "source": [
    "### 1. while True loops forever unless a break statement is used."
   ]
  },
  {
   "cell_type": "code",
   "execution_count": null,
   "metadata": {},
   "outputs": [
    {
     "name": "stdout",
     "output_type": "stream",
     "text": [
      "enter a name: Ghazalpreet Kaur\n",
      "Doesn't sound right. Please try again!\n"
     ]
    }
   ],
   "source": [
    "#use while TRUE to ensure that the user enters only characters for names.\n",
    "while True:\n",
    "    yourname = input(\"enter a name: \")\n",
    "    if yourname.isalpha():\n",
    "        print(\"Nice Name\")\n",
    "        break\n",
    "    else:\n",
    "        print(\"Doesn't sound right. Please try again!\")\n",
    "        \n",
    "#isaplha does not allow spaces. Only characters"
   ]
  },
  {
   "cell_type": "code",
   "execution_count": 2,
   "metadata": {},
   "outputs": [
    {
     "name": "stdout",
     "output_type": "stream",
     "text": [
      "Welcome to Little Sandwich. Please make your selection.\n",
      "'c'for cheese and 'v' for veggie\n",
      "c\n",
      "Please select your cheese:\n",
      "\n",
      "'s' for Swiss and 'a' for American\n",
      "b\n",
      "Sorry, we do not have this type of cheese. Goodbye.\n",
      "Please select your cheese:\n",
      "\n",
      "'s' for Swiss and 'a' for American\n",
      "d\n",
      "Sorry, we do not have this type of cheese. Goodbye.\n",
      "Please select your cheese:\n",
      "\n",
      "'s' for Swiss and 'a' for American\n",
      "s\n",
      "Here is your Swiss cheese sandwich. Thank you.\n"
     ]
    }
   ],
   "source": [
    "#Let's revisit our sandwich problem. Instead of saying goodbye when the customer input is wrong, we keep asking\n",
    "#them to make a selection until they get it right.\n",
    "\n",
    "print(\"Welcome to Little Sandwich. Please make your selection.\")\n",
    "\n",
    "while True:\n",
    "    sandwichtype=input(\"'c'for cheese and 'v' for veggie\\n\")\n",
    "\n",
    "    if sandwichtype.lower()=='c':\n",
    "        while True:\n",
    "            print(\"Please select your cheese:\\n\")\n",
    "            cheesetype=input(\"'s' for Swiss and 'a' for American\\n\")\n",
    "            if cheesetype.lower()=='s':\n",
    "                print(\"Here is your Swiss cheese sandwich. Thank you.\")\n",
    "                break\n",
    "            elif cheesetype.lower()=='a':\n",
    "                print(\"Here is your American cheese sandwich. Thank you.\")\n",
    "                break\n",
    "            else:\n",
    "                print(\"Sorry, we do not have this type of cheese. Goodbye.\")\n",
    "        break   \n",
    "    elif sandwichtype.lower()=='v':\n",
    "        print(\"Here is your veggie sandwich. Thank you.\")\n",
    "        break\n",
    "    else:\n",
    "        print(\"Sorry, we do not have this type of sandwich. Try again.\")\n",
    "   \n",
    "\n"
   ]
  },
  {
   "cell_type": "code",
   "execution_count": null,
   "metadata": {},
   "outputs": [],
   "source": [
    "#in while loop, when the condition  gets satisfied..we break the loop.\n",
    "#check for the loops and go about putting while loop systematically.\n",
    "#this is to give the user endless chances. If you dont want to give the user endless chances, you must use for loop."
   ]
  },
  {
   "cell_type": "code",
   "execution_count": null,
   "metadata": {},
   "outputs": [],
   "source": [
    "#Let's try another way of nesting the conditions and loops\n"
   ]
  },
  {
   "cell_type": "code",
   "execution_count": 1,
   "metadata": {},
   "outputs": [
    {
     "name": "stdout",
     "output_type": "stream",
     "text": [
      "Please enter the product name. When you are done, type in Done\n",
      "Iphone\n",
      "Please enter the product name. When you are done, type in Done\n",
      "Ipad\n",
      "Please enter the product name. When you are done, type in Done\n",
      "Samsung S9\n",
      "Please enter the product name. When you are done, type in Done\n",
      "Google Pixel\n",
      "Please enter the product name. When you are done, type in Done\n",
      "done\n",
      "['1. Iphone', '2. Ipad', '3. Samsung s9', '4. Google pixel']\n"
     ]
    }
   ],
   "source": [
    "#to allow entering product names until the user types in \"done\"\n",
    "#create a list named productlist\n",
    "\n",
    "productlist = []\n",
    "itemnumber = 0\n",
    "\n",
    "while True:\n",
    "    productname= input(\"Please enter the product name. When you are done, type in Done\\n\")\n",
    "    if productname.lower() == 'done':\n",
    "        break\n",
    "    else:\n",
    "        itemnumber+=1 #add 1 to the itemnumber and assign the new value to itemnumber\n",
    "        productlist.append(str(itemnumber)+'. '+productname.capitalize())\n",
    "print(productlist)\n",
    "    "
   ]
  },
  {
   "cell_type": "code",
   "execution_count": 2,
   "metadata": {},
   "outputs": [
    {
     "name": "stdout",
     "output_type": "stream",
     "text": [
      "So I'm thinking of person's name. Try to guess it: Ghazal\n",
      "Nope, that's not it! Hint: letter 1 is H. Guess again: Harry\n",
      "Nope, that's not it! Hint: letter 2 is a. Guess again: Harrison\n",
      "\n",
      "Great, you got it in 3 guesses!\n"
     ]
    }
   ],
   "source": [
    "#practice code\n",
    "\n",
    "name = 'Harrison'\n",
    "guess = input(\"So I'm thinking of person's name. Try to guess it: \")\n",
    "pos = 0\n",
    "\n",
    "while guess != name and pos < len(name):\n",
    "    print(\"Nope, that's not it! Hint: letter \", end='')\n",
    "    print(pos + 1, \"is\", name[pos] + \". \", end='')\n",
    "    guess = input(\"Guess again: \")\n",
    "    pos = pos + 1\n",
    "\n",
    "if pos == len(name) and name != guess:\n",
    "    print(\"Too bad, you couldn't get it.  The name was\", name + \".\")\n",
    "else:\n",
    "    print(\"\\nGreat, you got it in\", pos + 1,  \"guesses!\")"
   ]
  },
  {
   "cell_type": "code",
   "execution_count": 1,
   "metadata": {},
   "outputs": [
    {
     "name": "stdout",
     "output_type": "stream",
     "text": [
      "So I'm thinking of person's name. Try to guess it: Emma\n",
      "Nope, that's not it! Hint: letter 1 is H. Guess again: Harrison\n",
      "\n",
      "Great, you got it in 2 guesses!\n"
     ]
    }
   ],
   "source": [
    "name = 'Harrison'\n",
    "guess = input(\"So I'm thinking of person's name. Try to guess it: \")\n",
    "pos = 0\n",
    "\n",
    "while guess != name and pos < len(name):\n",
    "    print(\"Nope, that's not it! Hint: letter \", end='')\n",
    "    print(pos + 1, \"is\", name[pos] + \". \", end='')\n",
    "    guess = input(\"Guess again: \")\n",
    "    pos = pos + 1\n",
    "\n",
    "if pos == len(name) and name != guess:\n",
    "    print(\"Too bad, you couldn't get it.  The name was\", name + \".\")\n",
    "else:\n",
    "    print(\"\\nGreat, you got it in\", pos + 1,  \"guesses!\")"
   ]
  },
  {
   "cell_type": "code",
   "execution_count": null,
   "metadata": {},
   "outputs": [],
   "source": [
    "name = 'Harrison'\n",
    "guess = input(\"So I'm thinking of person's name. Try to guess it: \")\n",
    "pos = 0\n",
    "\n",
    "while guess != name and pos <len(name):\n",
    "    print(\"Noper, that's not it! Hint\")"
   ]
  },
  {
   "cell_type": "markdown",
   "metadata": {},
   "source": [
    "### 2. while loop with conditions"
   ]
  },
  {
   "cell_type": "code",
   "execution_count": 4,
   "metadata": {},
   "outputs": [
    {
     "name": "stdout",
     "output_type": "stream",
     "text": [
      "Enter a lottery number(0 to quit): 12\n",
      "You Win :) :)\n",
      "Enter a lottery number(0 to quit): -12\n"
     ]
    }
   ],
   "source": [
    "# Ask the user to input a number. If the user enters a number is multiple of 3, a winner; otherwise, no; \n",
    "# The user can continue to play for any number of times, but should be given a chance for the user to quit.\n",
    "\n",
    "lottery = int(input(\"Enter a lottery number(0 to quit): \"))\n",
    "\n",
    "while lottery>0:\n",
    "    if int(lottery/3) == lottery/3:\n",
    "        print(\"You Win :) :)\")\n",
    "    else:\n",
    "        print(\"Sorry.\")\n",
    "    lottery = int(input(\"Enter a lottery number(0 to quit): \"))\n",
    "\n",
    "        \n",
    "    \n",
    "\n",
    "        "
   ]
  },
  {
   "cell_type": "code",
   "execution_count": null,
   "metadata": {},
   "outputs": [
    {
     "name": "stdout",
     "output_type": "stream",
     "text": [
      "Please enter the number. If you want to quit, type in Quit\n",
      "13\n",
      "Oops!. YOU LOSE \n",
      "Please enter the number. If you want to quit, type in Quit\n",
      "5\n",
      "Oops!. YOU LOSE \n",
      "Please enter the number. If you want to quit, type in Quit\n",
      "1346758\n",
      "Oops!. YOU LOSE \n",
      "Please enter the number. If you want to quit, type in Quit\n",
      "127895730\n",
      "You Win :) :)\n"
     ]
    }
   ],
   "source": [
    "while True:\n",
    "    playnumber= input(\"Please enter the number. If you want to quit, type in Quit\\n\")\n",
    "    if playnumber.lower() == 'quit':\n",
    "        break\n",
    "    else:\n",
    "        if int(playnumber) > 0 :\n",
    "            if int(playnumber)%3 == 0:\n",
    "                print(\"You Win :) :)\")\n",
    "                \n",
    "            else:\n",
    "                print(\"Oops!. YOU LOSE \")\n",
    "        else:\n",
    "            print(\"Please make sure you enter a positive number greater than 0.\")"
   ]
  },
  {
   "cell_type": "markdown",
   "metadata": {},
   "source": [
    "### 3. for loop"
   ]
  },
  {
   "cell_type": "code",
   "execution_count": 2,
   "metadata": {
    "scrolled": true
   },
   "outputs": [
    {
     "ename": "NameError",
     "evalue": "name 'productlist' is not defined",
     "output_type": "error",
     "traceback": [
      "\u001b[1;31m---------------------------------------------------------------------------\u001b[0m",
      "\u001b[1;31mNameError\u001b[0m                                 Traceback (most recent call last)",
      "\u001b[1;32m<ipython-input-2-1b21e60f4796>\u001b[0m in \u001b[0;36m<module>\u001b[1;34m\u001b[0m\n\u001b[0;32m      1\u001b[0m \u001b[1;31m# to print out all items in the product list, one item at a time\u001b[0m\u001b[1;33m\u001b[0m\u001b[1;33m\u001b[0m\u001b[1;33m\u001b[0m\u001b[0m\n\u001b[1;32m----> 2\u001b[1;33m \u001b[1;32mfor\u001b[0m \u001b[0mi\u001b[0m \u001b[1;32min\u001b[0m \u001b[0mrange\u001b[0m\u001b[1;33m(\u001b[0m\u001b[0mlen\u001b[0m\u001b[1;33m(\u001b[0m\u001b[0mproductlist\u001b[0m\u001b[1;33m)\u001b[0m\u001b[1;33m)\u001b[0m\u001b[1;33m:\u001b[0m\u001b[1;33m\u001b[0m\u001b[1;33m\u001b[0m\u001b[0m\n\u001b[0m\u001b[0;32m      3\u001b[0m     \u001b[0mprint\u001b[0m\u001b[1;33m(\u001b[0m\u001b[1;34m' '\u001b[0m\u001b[1;33m+\u001b[0m\u001b[0mproductlist\u001b[0m\u001b[1;33m[\u001b[0m\u001b[0mi\u001b[0m\u001b[1;33m]\u001b[0m\u001b[1;33m)\u001b[0m\u001b[1;33m\u001b[0m\u001b[1;33m\u001b[0m\u001b[0m\n",
      "\u001b[1;31mNameError\u001b[0m: name 'productlist' is not defined"
     ]
    }
   ],
   "source": [
    "# to print out all items in the product list, one item at a time\n",
    "for i in range(len(productlist)):\n",
    "    print(' '+productlist[i])"
   ]
  },
  {
   "cell_type": "code",
   "execution_count": 3,
   "metadata": {},
   "outputs": [
    {
     "name": "stdout",
     "output_type": "stream",
     "text": [
      "[0, 1, 2]\n"
     ]
    }
   ],
   "source": [
    "x = list(range(3))\n",
    "print(x)"
   ]
  },
  {
   "cell_type": "code",
   "execution_count": 1,
   "metadata": {},
   "outputs": [
    {
     "name": "stdout",
     "output_type": "stream",
     "text": [
      "Please enter your username: (attempt 1)\n",
      "Cerci\n",
      "Please type in your password\n",
      "lannister@4\n",
      "Welcome Cerci\n"
     ]
    }
   ],
   "source": [
    "# Allow a user to type in a combination of user name and password up to three attempts. Remind the user if\n",
    "# the combination is wrong.\n",
    "logininfo = {'Cerci': 'lannister@4','Jamie':'Cerci4eva','Tyrion':'goingstrong','Arya':'Valarmoghulis', 'Danerys':'Khaleesi4eva',\n",
    "            'Sansa':'ConfusedAllDaTime','Theon':'Reek'}\n",
    "\n",
    "for i in range(3):\n",
    "    print('Please enter your username: (attempt '+str(i+1)+')')\n",
    "    username = input()\n",
    "    if username in logininfo:\n",
    "        print(\"Please type in your password\")\n",
    "        userpassword = input()\n",
    "        if userpassword == logininfo[username]:\n",
    "            print(\"Welcome \"+username)\n",
    "            break\n",
    "        else:\n",
    "            print(\"Wrong Password\")\n",
    "            \n",
    "            i+=1\n",
    "    else:\n",
    "        print(\"Wrong Username\")\n",
    "        i+=1"
   ]
  },
  {
   "cell_type": "code",
   "execution_count": 4,
   "metadata": {},
   "outputs": [
    {
     "name": "stdout",
     "output_type": "stream",
     "text": [
      "username is: Cerci\n",
      "Password is: lannister@4\n",
      "username is: Jamie\n",
      "Password is: Cerci4eva\n",
      "username is: Tyrion\n",
      "Password is: goingstrong\n",
      "username is: Arya\n",
      "Password is: Valarmoghulis\n",
      "username is: Danerys\n",
      "Password is: Khaleesi4eva\n",
      "username is: Sansa\n",
      "Password is: ConfusedAllDaTime\n",
      "username is: Theon\n",
      "Password is: Reek\n"
     ]
    }
   ],
   "source": [
    "#To print the username/password pair from the dictionary\n",
    "\n",
    "logininfo = {'Cerci': 'lannister@4','Jamie':'Cerci4eva','Tyrion':'goingstrong','Arya':'Valarmoghulis', 'Danerys':'Khaleesi4eva',\n",
    "            'Sansa':'ConfusedAllDaTime','Theon':'Reek'}\n",
    "\n",
    "for k,v in logininfo.items():\n",
    "    print('username is: '+k+'\\nPassword is: '+v)\n",
    "    "
   ]
  },
  {
   "cell_type": "code",
   "execution_count": 6,
   "metadata": {},
   "outputs": [
    {
     "name": "stdout",
     "output_type": "stream",
     "text": [
      "True\n"
     ]
    }
   ],
   "source": [
    "# write a function to compare two lists. Return True if they have at list one item in common.\n",
    "def common_element(list1,list2):\n",
    "    result = False\n",
    "    for i in list1:\n",
    "        for j in list2:\n",
    "            if i == j:\n",
    "                result = True\n",
    "                return result\n",
    "print(common_element([1,2,3,4,5],[5,6,7,8]))"
   ]
  },
  {
   "cell_type": "code",
   "execution_count": 10,
   "metadata": {},
   "outputs": [
    {
     "name": "stdout",
     "output_type": "stream",
     "text": [
      "True\n",
      "False\n",
      "False\n",
      "False\n",
      "False\n"
     ]
    },
    {
     "ename": "IndexError",
     "evalue": "list index out of range",
     "output_type": "error",
     "traceback": [
      "\u001b[1;31m---------------------------------------------------------------------------\u001b[0m",
      "\u001b[1;31mIndexError\u001b[0m                                Traceback (most recent call last)",
      "\u001b[1;32m<ipython-input-10-3b4ffc058f61>\u001b[0m in \u001b[0;36m<module>\u001b[1;34m\u001b[0m\n\u001b[0;32m      5\u001b[0m \u001b[1;32mfor\u001b[0m \u001b[0mi\u001b[0m \u001b[1;32min\u001b[0m \u001b[0mlist1\u001b[0m\u001b[1;33m:\u001b[0m\u001b[1;33m\u001b[0m\u001b[1;33m\u001b[0m\u001b[0m\n\u001b[0;32m      6\u001b[0m     \u001b[1;32mfor\u001b[0m \u001b[0mj\u001b[0m \u001b[1;32min\u001b[0m \u001b[0mlist2\u001b[0m\u001b[1;33m:\u001b[0m\u001b[1;33m\u001b[0m\u001b[1;33m\u001b[0m\u001b[0m\n\u001b[1;32m----> 7\u001b[1;33m         \u001b[1;32mif\u001b[0m \u001b[0mlist1\u001b[0m\u001b[1;33m[\u001b[0m\u001b[0mi\u001b[0m\u001b[1;33m]\u001b[0m\u001b[1;33m==\u001b[0m\u001b[0mlist2\u001b[0m\u001b[1;33m[\u001b[0m\u001b[0mj\u001b[0m\u001b[1;33m]\u001b[0m\u001b[1;33m:\u001b[0m\u001b[1;33m\u001b[0m\u001b[1;33m\u001b[0m\u001b[0m\n\u001b[0m\u001b[0;32m      8\u001b[0m             \u001b[0mprint\u001b[0m\u001b[1;33m(\u001b[0m\u001b[1;34m'True'\u001b[0m\u001b[1;33m)\u001b[0m\u001b[1;33m\u001b[0m\u001b[1;33m\u001b[0m\u001b[0m\n\u001b[0;32m      9\u001b[0m \u001b[1;33m\u001b[0m\u001b[0m\n",
      "\u001b[1;31mIndexError\u001b[0m: list index out of range"
     ]
    }
   ],
   "source": [
    "list1 = [1,2,3,4,5,6,7,8]\n",
    "list2 = [1,2,3,4,6,8,10,12]\n",
    "\n",
    "#in order to refer to the index, put range instead of the list1 or list2\n",
    "for i in list1:\n",
    "    for j in list2:\n",
    "        if list1[i]==list2[j]:\n",
    "            print('True')\n",
    "        \n",
    "        else:\n",
    "            print('False')\n",
    "        j+1\n",
    "        i+1\n",
    "        "
   ]
  },
  {
   "cell_type": "code",
   "execution_count": null,
   "metadata": {},
   "outputs": [],
   "source": [
    "# if we want to pick out the common items\n"
   ]
  },
  {
   "cell_type": "code",
   "execution_count": null,
   "metadata": {},
   "outputs": [],
   "source": [
    "#Take a string and calculate the number of letters and digits\n"
   ]
  },
  {
   "cell_type": "code",
   "execution_count": null,
   "metadata": {},
   "outputs": [
    {
     "name": "stdout",
     "output_type": "stream",
     "text": [
      " | | \n",
      "-+-+-\n",
      " | | \n",
      "-+-+-\n",
      " | | \n",
      " | | \n",
      "-+-+-\n",
      " | | \n",
      "-+-+-\n",
      " | | \n",
      "Turn for X. Move on which space?\n",
      "X\n",
      " | | \n",
      "-+-+-\n",
      " | | \n",
      "-+-+-\n",
      " | | \n",
      "Turn for O. Move on which space?\n",
      "mid-M\n",
      " | | \n",
      "-+-+-\n",
      " |O| \n",
      "-+-+-\n",
      " | | \n",
      "Turn for X. Move on which space?\n"
     ]
    }
   ],
   "source": [
    "#Create a game of Tic-tac-toe\n",
    "theBoard = {'top-L': ' ', 'top-M': ' ', 'top-R': ' ', 'mid-L': ' ', 'mid-M': ' ',\n",
    "'mid-R': ' ', 'low-L': ' ', 'low-M': ' ', 'low-R': ' '}\n",
    "\n",
    "def printBoard(board):\n",
    "            print(board['top-L'] + '|' + board['top-M'] + '|' + board['top-R'])\n",
    "            print('-+-+-')\n",
    "            print(board['mid-L'] + '|' + board['mid-M'] + '|' + board['mid-R'])\n",
    "            print('-+-+-')\n",
    "            print(board['low-L'] + '|' + board['low-M'] + '|' + board['low-R'])\n",
    "printBoard(theBoard)\n",
    "\n",
    "turn = 'X'\n",
    "for i in range(9):\n",
    "    printBoard(theBoard)\n",
    "    print('Turn for '+ turn + '. Move on which space?')\n",
    "    move = input()\n",
    "    theBoard[move] = turn\n",
    "    if turn == \"X\":\n",
    "        turn = 'O'\n",
    "    else:\n",
    "        turn = \"X\"\n",
    "printBoard(theBoard)\n",
    "\n",
    "\n",
    "\n",
    "\n"
   ]
  },
  {
   "cell_type": "markdown",
   "metadata": {},
   "source": [
    "### 4. tuple"
   ]
  },
  {
   "cell_type": "code",
   "execution_count": 33,
   "metadata": {},
   "outputs": [
    {
     "name": "stdout",
     "output_type": "stream",
     "text": [
      "<class 'tuple'>\n",
      "(4, 6, 2, 8, 3, 1, 9)\n",
      "(4, 6, 2, 8, 3, 15, 20, 25, 4, 6, 2, 8, 3)\n"
     ]
    },
    {
     "data": {
      "text/plain": [
       "'abcdgxre'"
      ]
     },
     "execution_count": 33,
     "metadata": {},
     "output_type": "execute_result"
    }
   ],
   "source": [
    "#create a tuple\n",
    "\n",
    "cake = ('c','a','k','e')\n",
    "print(type(cake))\n",
    "#tuples are immutable, so you can not add new elements or delete or change the values of the items stored in it. \n",
    "#using merge of tuples with the + operator you can add an element and it will create a new tuple\n",
    "tuplex = (4, 6, 2, 8, 3, 1) \n",
    "tuplex = tuplex + (9,)\n",
    "print(tuplex)\n",
    "#adding items with index\n",
    "tuplex = tuplex[:5] + (15, 20, 25) + tuplex[:5]\n",
    "print(tuplex)\n",
    "#converting the tuple to list\n",
    "numbers_tuple = (1,2,3,4,5)\n",
    "numbers_list = [1,2,3,4,5]\n",
    "#add items to a list\n",
    "mylist = [1,2,3,4,5]\n",
    "mylist.append([6,7])\n",
    "mylist\n",
    "\n",
    "mylist = [1,2,3,4,5]\n",
    "mylist.extend([6,7])\n",
    "mylist\n",
    "#convert tuple to a string\n",
    "tup = ('a', 'b', 'c', 'd', 'g', 'x', 'r', 'e')\n",
    "''.join(tup)\n",
    "The join() method returns a string concatenated with the elements of iterable."
   ]
  },
  {
   "cell_type": "code",
   "execution_count": 32,
   "metadata": {},
   "outputs": [
    {
     "data": {
      "text/plain": [
       "[1, 2, 3, 4, 5, 15, 20, 25, 1, 2, 3, 4, 5]"
      ]
     },
     "execution_count": 32,
     "metadata": {},
     "output_type": "execute_result"
    }
   ],
   "source": [
    "#using merge of list with the + operator you can add an element \n",
    "mylist = mylist[:5]+ [15,20,25] +mylist[:5]\n",
    "mylist"
   ]
  },
  {
   "cell_type": "markdown",
   "metadata": {},
   "source": [
    "### 5. sets: no duplicated items, no order, mutable with add(),update(),etc"
   ]
  },
  {
   "cell_type": "code",
   "execution_count": 1,
   "metadata": {},
   "outputs": [
    {
     "name": "stdout",
     "output_type": "stream",
     "text": [
      "set()\n",
      "{0, 1, 2, 3, 4}\n",
      "0\n",
      "1\n",
      "2\n",
      "3\n",
      "4\n"
     ]
    }
   ],
   "source": [
    "#Create a new empty set \n",
    "\n",
    "#Create a non empty set\n",
    "\n",
    "#iterate set elements\n"
   ]
  },
  {
   "cell_type": "code",
   "execution_count": null,
   "metadata": {},
   "outputs": [],
   "source": [
    "#to add elements to a set\n",
    "#A new empty set\n",
    "\n",
    "# add() is to add one item\n",
    "\n",
    "#To add multiple items, have to use update()\n"
   ]
  },
  {
   "cell_type": "markdown",
   "metadata": {},
   "source": [
    "### 6. Date and time"
   ]
  },
  {
   "cell_type": "code",
   "execution_count": null,
   "metadata": {
    "scrolled": false
   },
   "outputs": [],
   "source": [
    "# Write a Python script to display times\n",
    "import time\n",
    "import datetime\n",
    "#a) Current date and time\n",
    "\n",
    "#b) Current year\n",
    "\n",
    "#c) Month of year\n",
    "\n",
    "#d) Week number of the year\n",
    "\n",
    "#e) Weekday of the week\n",
    "\n",
    "#f) Day of year\n",
    "\n",
    "#g) Day of the month\n",
    "\n",
    "#h) Day of week\n"
   ]
  },
  {
   "cell_type": "code",
   "execution_count": null,
   "metadata": {},
   "outputs": [],
   "source": [
    "help(datetime.date.strftime)"
   ]
  }
 ],
 "metadata": {
  "kernelspec": {
   "display_name": "Python 3",
   "language": "python",
   "name": "python3"
  },
  "language_info": {
   "codemirror_mode": {
    "name": "ipython",
    "version": 3
   },
   "file_extension": ".py",
   "mimetype": "text/x-python",
   "name": "python",
   "nbconvert_exporter": "python",
   "pygments_lexer": "ipython3",
   "version": "3.7.1"
  }
 },
 "nbformat": 4,
 "nbformat_minor": 2
}
