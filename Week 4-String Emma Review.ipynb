{
 "cells": [
  {
   "cell_type": "markdown",
   "metadata": {
    "collapsed": true
   },
   "source": [
    "# Programming for Data Science (Python)"
   ]
  },
  {
   "cell_type": "markdown",
   "metadata": {},
   "source": [
    "## In this session, we will learn:\n",
    "<p>•\tStrings and pattern match</p>\n",
    "<p>•\tNumpy</p>"
   ]
  },
  {
   "cell_type": "code",
   "execution_count": null,
   "metadata": {},
   "outputs": [],
   "source": [
    "from IPython.core.interactiveshell import InteractiveShell\n",
    "InteractiveShell.ast_node_interactivity = \"all\""
   ]
  },
  {
   "cell_type": "code",
   "execution_count": 20,
   "metadata": {},
   "outputs": [
    {
     "name": "stdout",
     "output_type": "stream",
     "text": [
      "(4, 5, 6, 6, 9, 7, 9)\n",
      "(4, 5, 6, 6, 7, 9)\n"
     ]
    },
    {
     "data": {
      "text/plain": [
       "'yes'"
      ]
     },
     "execution_count": 20,
     "metadata": {},
     "output_type": "execute_result"
    }
   ],
   "source": [
    "#create a tuple\n",
    "tuplex = (4,5,6,6,7)\n",
    "\n",
    "#tuples are immutable, so you can not add new elements\n",
    "#using merge of tuples with the + operator you can add an element and it will create a new tuple\n",
    "\n",
    "tuplex = tuplex +(9,)\n",
    "\n",
    "tuplex\n",
    "\n",
    "\n",
    "#adding items in a specific index\n",
    "#break the tupple into 2 subs and add them \n",
    "tuplex1 = tuplex[:4]+(9,)+tuplex[4:]\n",
    "print(tuplex1)\n",
    "print(tuplex)\n",
    "\n",
    "#converting the tuple to list\n",
    "listx = list(tuplex1)\n",
    "#a preferred way to add items, first convert the tupple into list and then add\n",
    "#use different ways to add items in list\n",
    "tuplex = tuple(listx)\n",
    "\n",
    "#convert tuple to a string\n",
    "tup = ('y','e','s')\n",
    "\n",
    "str1 = ''.join(tup) # '' before .join means you just joined the tuple values without any space !\n",
    "str1\n"
   ]
  },
  {
   "cell_type": "code",
   "execution_count": 19,
   "metadata": {},
   "outputs": [
    {
     "data": {
      "text/plain": [
       "{0, 1, 2, 4, 5, 8, 9}"
      ]
     },
     "execution_count": 19,
     "metadata": {},
     "output_type": "execute_result"
    }
   ],
   "source": [
    "#Create a new empty set \n",
    "x = set() #because without a set is a tuple\n",
    "#Create a non empty set\n",
    "x = set([0,1,2,4])\n",
    "x\n",
    "#to add elements to a set\n",
    "#add or update \n",
    "#add is used to add only signle items\n",
    "#A new empty set\n",
    "x.add(5)\n",
    "x\n",
    "#Add multiple items\n",
    "#for multiple items, you need update\n",
    "x.update([8,9])\n",
    "x"
   ]
  },
  {
   "cell_type": "markdown",
   "metadata": {},
   "source": [
    "### Useful string functions"
   ]
  },
  {
   "cell_type": "code",
   "execution_count": 8,
   "metadata": {},
   "outputs": [
    {
     "name": "stdout",
     "output_type": "stream",
     "text": [
      "Enter your age: \n",
      "60\n"
     ]
    }
   ],
   "source": [
    "# isX to validate input验证输入\n",
    "# isnumeric(): judge all characters in the string are numeric characters, Otherwise, It returns “False”.\n",
    "while True:\n",
    "    print('Enter your age: ')\n",
    "    age= input()\n",
    "    if age.isnumeric():\n",
    "        break\n",
    "    print(\"please enter number only\")\n"
   ]
  },
  {
   "cell_type": "code",
   "execution_count": 2,
   "metadata": {},
   "outputs": [
    {
     "data": {
      "text/plain": [
       "'abcdgxre'"
      ]
     },
     "execution_count": 2,
     "metadata": {},
     "output_type": "execute_result"
    }
   ],
   "source": [
    "#join() vs split()\n",
    "# join()changing it back to a string \n",
    "# for example: we can use join() to convert tuple to a string\n",
    "tup = ('a', 'b', 'c', 'd', 'g', 'x', 'r', 'e')\n",
    "''.join(tup)"
   ]
  },
  {
   "cell_type": "code",
   "execution_count": 7,
   "metadata": {},
   "outputs": [
    {
     "name": "stdout",
     "output_type": "stream",
     "text": [
      "['welcome', 'to', 'the', 'jungle']\n"
     ]
    }
   ],
   "source": [
    "#split() splits a string into a list\n",
    "\n",
    "txt = \"welcome to the jungle\"\n",
    "\n",
    "x = txt.split()\n",
    "\n",
    "print(x)"
   ]
  },
  {
   "cell_type": "markdown",
   "metadata": {},
   "source": [
    "\n",
    " Regular expressions # ch7 模式匹配与正则表达式"
   ]
  },
  {
   "cell_type": "code",
   "execution_count": 16,
   "metadata": {},
   "outputs": [
    {
     "data": {
      "text/plain": [
       "True"
      ]
     },
     "execution_count": 16,
     "metadata": {},
     "output_type": "execute_result"
    }
   ],
   "source": [
    "#use specific characters to represent string characters.\n",
    "#Find phone number in the format of XXX-XXX-XXXX\n",
    "#Check if a string matches this pattern\n",
    "\n",
    "#check the length of the string 12\n",
    "#check the 4th and the 8th character is a ‘-’\n",
    "#用 def语句创建函数时，可以用return语句指定应该返回什么值，如果在return语句中使用表达式，返回值就是该表达式求值的结果。\n",
    "def isPhonenumber(text):  \n",
    "    if len(text) != 12: # 检查该字符串是否有12个字符\n",
    "        return False\n",
    "    for i in range(0,3): # 检查前三个字母（也就是区号）是否只包含数字； range(0,3)是指 0,1,2 不包括3\n",
    "        if not text[i].isnumeric():\n",
    "            return False\n",
    "    if text[3] != '-': #\n",
    "        return False\n",
    "    for i in range(4,7): # 4-7 means include 4, 5, 6 not include7 \n",
    "        if not text[i].isnumeric():\n",
    "            return False\n",
    "    if text[7] != '-':\n",
    "        return False\n",
    "    for i in range(8,12):\n",
    "        if not text[i].isnumeric():\n",
    "            return False\n",
    "    return True\n",
    "\n",
    "isPhonenumber('459-970-7999')"
   ]
  },
  {
   "cell_type": "code",
   "execution_count": 14,
   "metadata": {},
   "outputs": [
    {
     "name": "stdout",
     "output_type": "stream",
     "text": [
      "0\n",
      "1\n",
      "2\n",
      "3\n",
      "4\n"
     ]
    }
   ],
   "source": [
    "#对range 范围的回顾：\n",
    "for i in range(5):\n",
    "    print(i)\n",
    "# range(5)指的0 1 2 3 4"
   ]
  },
  {
   "cell_type": "code",
   "execution_count": 17,
   "metadata": {},
   "outputs": [
    {
     "name": "stdout",
     "output_type": "stream",
     "text": [
      "['415-555-1011', '415-555-9999']\n"
     ]
    }
   ],
   "source": [
    "# To find phone numbers in a string using the isPhoneNumber function\n",
    "\n",
    "message = \"Call me at 415-555-1011 tomorrow. 415-555-9999 is my office.\"\n",
    "#use isPhonenumber to extract the phone number from the message\n",
    "#break the entire string into 12 character long chunks\n",
    "#slice the string\n",
    "#find the right string \n",
    "phonenumbers = []\n",
    "\n",
    "for i in range(len(message)):\n",
    "    chunk = message[i:i+12]\n",
    "    if isPhonenumber(chunk):\n",
    "        phonenumbers.append(chunk)\n",
    "print(phonenumbers)"
   ]
  },
  {
   "cell_type": "code",
   "execution_count": 18,
   "metadata": {},
   "outputs": [
    {
     "data": {
      "text/plain": [
       "['415-555-1011', '415-555-9999']"
      ]
     },
     "execution_count": 18,
     "metadata": {},
     "output_type": "execute_result"
    }
   ],
   "source": [
    "#Using regular expressions\n",
    "import re# import regular expression package正则表达式都在re模块,需要先调用re才能使用\n",
    "phoneNumregex = re.compile(r'\\d\\d\\d-\\d\\d\\d-\\d\\d\\d\\d')\n",
    "\n",
    "#every function from the package should be called this way\n",
    "#向re.recompile()里传入一个字符串值它将返回一个Regex模式对象\n",
    "# re.recompile的意思就是从re 这个模块里调用recompile\n",
    "#\\d - digit 是一个正则表达式，是一个数字字符，任何一个从0到9的数字 python使用 \\d\\d\\d-\\d\\d\\d-\\d\\d\\d\\d 来匹配isPhoneNumber()函数匹配的同样文本\n",
    "#pattern: 3 digits - 3 digits - 4 digits\n",
    "#equivalent to : \\d{3}-\\d{3}-\\d{4}\n",
    "#通过在字符串的第一个引号之前加上r，可以将字符串标记为原始字符串，它不包括转义字符\n",
    "phoneNumregex.findall(\"Call me at 415-555-1011 tomorrow. 415-555-9999 is my office.\")"
   ]
  },
  {
   "cell_type": "code",
   "execution_count": 8,
   "metadata": {},
   "outputs": [
    {
     "data": {
      "text/plain": [
       "['415.555.4242', '415-555-4955']"
      ]
     },
     "execution_count": 8,
     "metadata": {},
     "output_type": "execute_result"
    }
   ],
   "source": [
    "#What about a phone number formatted like 415.555.4242?\n",
    "\n",
    "phoneNumregex1 = re.compile(r'\\d\\d\\d.\\d\\d\\d.\\d\\d\\d\\d')#every function from the package should be called this way\n",
    "#\\d - digit\n",
    "#pattern: 3 digits - 3 digits - 4 digits\n",
    "#equivalent to : \\d{3}-\\d{3}-\\d{4}\n",
    "phoneNumregex1.findall(\"Call me at 415.555.4242 tomorrow. 415-555-4955 is my office.\")\n",
    "# findall() 函数帮助找到所有匹配的地方"
   ]
  },
  {
   "cell_type": "code",
   "execution_count": 21,
   "metadata": {},
   "outputs": [
    {
     "data": {
      "text/plain": [
       "['415.555.4242']"
      ]
     },
     "execution_count": 21,
     "metadata": {},
     "output_type": "execute_result"
    }
   ],
   "source": [
    "#What about a phone number formatted like 415.555.4242?\n",
    "#we get both the outputs, because '.' is a wild card character 通配符which means it will accept any charater.\n",
    "#so in order to only get . pattern, put a back slash before .\n",
    "\n",
    "phoneNumregex2 = re.compile(r'\\d\\d\\d\\.\\d\\d\\d\\.\\d\\d\\d\\d')\n",
    "#\\d - digit\n",
    "#pattern: 3 digits - 3 digits - 4 digits\n",
    "#equivalent to : \\d{3}-\\d{3}-\\d{4}\n",
    "phoneNumregex2.findall(\"Call me at 415.555.4242 tomorrow. 415-555-4955 is my office.\")\n"
   ]
  },
  {
   "cell_type": "code",
   "execution_count": null,
   "metadata": {},
   "outputs": [],
   "source": [
    "# search() 和 findall()的区别： search()将返回一个match对象； findall()是返回一个字符串列表、 只要在正则表达式中没有分组，\n",
    "#列表中的每一个字符串都是一段被查的文本，它匹配该正则表达式\n"
   ]
  },
  {
   "cell_type": "code",
   "execution_count": 35,
   "metadata": {},
   "outputs": [
    {
     "data": {
      "text/plain": [
       "' 555-1011'"
      ]
     },
     "execution_count": 35,
     "metadata": {},
     "output_type": "execute_result"
    }
   ],
   "source": [
    "# 用问号？实现可选匹配if the area code is optional\n",
    "#?前面的分组在这个模式中是可选的，\n",
    "#? suggests that whatever is written in from of the \"?\" is optional\n",
    "phoneNumregex = re.compile(r'(\\d{3}-)? \\d{3}-\\d{4}') \n",
    "mo1=phoneNumregex.search(\"Call me at 555-1011 tomorrow. 415-555-9999 is my office.\")\n",
    "mo1.group()\n",
    "\n",
    "#search only works for the first object"
   ]
  },
  {
   "cell_type": "code",
   "execution_count": 47,
   "metadata": {},
   "outputs": [
    {
     "data": {
      "text/plain": [
       "'Batwoman'"
      ]
     },
     "execution_count": 47,
     "metadata": {},
     "output_type": "execute_result"
    }
   ],
   "source": [
    "batRegex = re.compile(r'Bat(wo)?man')\n",
    "mo1 = batRegex.search('The Adventures of Batman')\n",
    "mo1.group()\n",
    "mo2 = batRegex.search('The Adventures of Batwoman')\n",
    "mo2.group()\n"
   ]
  },
  {
   "cell_type": "code",
   "execution_count": 45,
   "metadata": {},
   "outputs": [
    {
     "data": {
      "text/plain": [
       "'Batwoman'"
      ]
     },
     "execution_count": 45,
     "metadata": {},
     "output_type": "execute_result"
    }
   ],
   "source": [
    "mo2 = batRegex.search('The Adventures of Batwoman')\n",
    "mo2.group()\n",
    "#对比上面可以看出表达式wo?是可选的分组，该正则表达式匹配的文本中，wo将出现零次或一次，这就是为什么正则表达式既匹配 Batman又匹配Batwoman"
   ]
  },
  {
   "cell_type": "code",
   "execution_count": 44,
   "metadata": {},
   "outputs": [
    {
     "data": {
      "text/plain": [
       "[('415', '555', '4955')]"
      ]
     },
     "execution_count": 44,
     "metadata": {},
     "output_type": "execute_result"
    }
   ],
   "source": [
    "phoneNumregex4 = re.compile(r'(\\d\\d\\d)-(\\d\\d\\d)-(\\d\\d\\d\\d)')\n",
    "\n",
    "phoneNumregex4.findall(\"Call me at 415.555.4242 tomorrow. 415-555-4955 is my office.\")\n",
    "#grouping results in a tupple of different groups"
   ]
  },
  {
   "cell_type": "code",
   "execution_count": 55,
   "metadata": {},
   "outputs": [
    {
     "data": {
      "text/plain": [
       "['12 drummers',\n",
       " '11 pipers',\n",
       " '10 lords',\n",
       " '9 ladies',\n",
       " '8 maids',\n",
       " '7 swans',\n",
       " '6 geese',\n",
       " '5 rings',\n",
       " '4 birds',\n",
       " '3 hens',\n",
       " '2 doves',\n",
       " '1 partridge']"
      ]
     },
     "execution_count": 55,
     "metadata": {},
     "output_type": "execute_result"
    }
   ],
   "source": [
    "#back to regular expression. '+' matches one or more times 匹配一次到多次\n",
    "#'*' matches zero or more times 零次或多次，即星号之前的分组可以在文本中出现任意次\n",
    "#\\d for digits, \\s for space, \\w for letter, digit or the underscore\n",
    "\n",
    "#\\w for words \n",
    "#\\s for space\n",
    "#\\w+ for one or more words\n",
    "#\\d+ for one or more digits\n",
    "\n",
    "xmasRegex = re.compile(r'\\d+\\s\\w+')\n",
    "xmasRegex.findall('12 drummers, 11 pipers, 10 lords, 9 ladies, 8 maids, 7 swans, 6 geese, 5 rings, 4 birds, 3 hens, 2 doves, 1 partridge')\n",
    "\n",
    "\n",
    "\n"
   ]
  },
  {
   "cell_type": "code",
   "execution_count": 56,
   "metadata": {},
   "outputs": [
    {
     "data": {
      "text/plain": [
       "'Robocop'"
      ]
     },
     "execution_count": 56,
     "metadata": {},
     "output_type": "execute_result"
    }
   ],
   "source": [
    "#re.I to make regex正则表达式不区分大小写 case-insensitive\n",
    "#by default python is case sensitive\n",
    "\n",
    "robocop = re.compile(r'robocop',re.I)\n",
    "robocop.search('Robocop is part man, part machine, all cop.').group()"
   ]
  },
  {
   "cell_type": "code",
   "execution_count": 58,
   "metadata": {},
   "outputs": [
    {
     "data": {
      "text/plain": [
       "'EMMA gave the secret documents to EMMA.'"
      ]
     },
     "execution_count": 58,
     "metadata": {},
     "output_type": "execute_result"
    }
   ],
   "source": [
    "#sub() to substitute the searched pattern 替换字符串 sub有两个参数sub(‘用于取代发现的匹配字符串’，‘正则表达式’)\n",
    "namesRegex = re.compile(r'Agent \\w+')\n",
    "namesRegex.sub('EMMA', 'Agent Alice gave the secret documents to Agent Bob.')"
   ]
  },
  {
   "cell_type": "code",
   "execution_count": null,
   "metadata": {},
   "outputs": [],
   "source": [
    "#re.VERBOSE to ignore comments and whitespace\n",
    "phoneRegex1 = re.compile(r'((\\d{3}|\\(\\d{3}\\))?(\\s|-|\\.)?\\d{3}(\\s|-|\\.)\\d{4}(\\s*(ext|x|ext.)\\s*\\d{2,5})?)')\n",
    "#\\d{3}|\\(\\d{3}\\) | is the or sign \n",
    "#translation: 3 digits or 3 digits in brackets, which is optional\n",
    "#after that 3 digits after that space, - or .\n",
    "#after that 4 digits after that space"
   ]
  },
  {
   "cell_type": "code",
   "execution_count": 42,
   "metadata": {},
   "outputs": [],
   "source": [
    "#为电话号码创建一个正则表达式\n",
    "phoneRegex = re.compile(r'''(\n",
    "    (\\d{3}|\\(\\d{3}\\))?           # area code\n",
    "    (\\s|-|\\.)?                   # separator\n",
    "    (\\d{3})                      # first 3 digits\n",
    "    (\\s|-|\\.)                    # separator\n",
    "    (\\d{4})                      # last 4 digits\n",
    "    (\\s*(ext|x|ext.)\\s*\\d{2,5})? # extension\n",
    "    )''', re.VERBOSE)"
   ]
  },
  {
   "cell_type": "code",
   "execution_count": null,
   "metadata": {
    "scrolled": false
   },
   "outputs": [],
   "source": [
    "#create an email regex\n",
    "\n",
    "emailRegex = re.compile(r'[a-zA-Z0-9._%+-]+@[]\\.[]{2,4}')"
   ]
  },
  {
   "cell_type": "code",
   "execution_count": 63,
   "metadata": {},
   "outputs": [
    {
     "ename": "NameError",
     "evalue": "name 'pattern' is not defined",
     "output_type": "error",
     "traceback": [
      "\u001b[1;31m---------------------------------------------------------------------------\u001b[0m",
      "\u001b[1;31mNameError\u001b[0m                                 Traceback (most recent call last)",
      "\u001b[1;32m<ipython-input-63-778135a1a27f>\u001b[0m in \u001b[0;36m<module>\u001b[1;34m\u001b[0m\n\u001b[0;32m     19\u001b[0m \u001b[1;33m\u001b[0m\u001b[0m\n\u001b[0;32m     20\u001b[0m \u001b[1;33m\u001b[0m\u001b[0m\n\u001b[1;32m---> 21\u001b[1;33m \u001b[0mmatches\u001b[0m \u001b[1;33m=\u001b[0m \u001b[0mpattern\u001b[0m\u001b[1;33m.\u001b[0m\u001b[0mfinditer\u001b[0m\u001b[1;33m(\u001b[0m\u001b[0mpswdlist\u001b[0m\u001b[1;33m)\u001b[0m\u001b[1;33m\u001b[0m\u001b[1;33m\u001b[0m\u001b[0m\n\u001b[0m\u001b[0;32m     22\u001b[0m \u001b[1;33m\u001b[0m\u001b[0m\n\u001b[0;32m     23\u001b[0m \u001b[1;32mfor\u001b[0m \u001b[0mmatch\u001b[0m \u001b[1;32min\u001b[0m \u001b[0mmatches\u001b[0m\u001b[1;33m:\u001b[0m\u001b[1;33m\u001b[0m\u001b[1;33m\u001b[0m\u001b[0m\n",
      "\u001b[1;31mNameError\u001b[0m: name 'pattern' is not defined"
     ]
    }
   ],
   "source": [
    "#to check password strength\n",
    "\n",
    "import re\n",
    "pswdlist = '''password \n",
    "a1b2c3d4e5f6\n",
    "Acsdqe&\n",
    "@fgsdqywt5\n",
    "df\n",
    "lkasiy\n",
    "093ndhyusy%6*\n",
    "nhsgydu%%!#\n",
    "jdnshducsjo7^%8w0\n",
    "Fhgusty\n",
    "hsgyd\n",
    "jksh\n",
    "&jdh)()&*\n",
    "\n",
    "'''\n",
    "\n",
    "\n",
    "matches = pattern.finditer(pswdlist)\n",
    "\n",
    "for match in matches:\n",
    "    print(match)"
   ]
  },
  {
   "cell_type": "code",
   "execution_count": null,
   "metadata": {},
   "outputs": [],
   "source": []
  }
 ],
 "metadata": {
  "kernelspec": {
   "display_name": "Python 3",
   "language": "python",
   "name": "python3"
  },
  "language_info": {
   "codemirror_mode": {
    "name": "ipython",
    "version": 3
   },
   "file_extension": ".py",
   "mimetype": "text/x-python",
   "name": "python",
   "nbconvert_exporter": "python",
   "pygments_lexer": "ipython3",
   "version": "3.7.1"
  }
 },
 "nbformat": 4,
 "nbformat_minor": 2
}
